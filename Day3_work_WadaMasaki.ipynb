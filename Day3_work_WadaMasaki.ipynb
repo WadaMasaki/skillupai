{
 "cells": [
  {
   "cell_type": "markdown",
   "metadata": {},
   "source": [
    "### [Day3]\n",
    "* Day1 and 2のフィードバックを元に説明変数を変更\n",
    "* Pledged、backersは利用しないように変更\n",
    "* main_category、currency、goal、deadline、launched、stateを使用\n",
    "* フィードバックを元にsuccessful、failedのみを残しその他は削除\n",
    "* Day3までの内容（評価できた手法）で精度の比較を実施\n",
    " \n",
    "* ホールドアウト（標準化なし）53.7 %\n",
    "* 交差検証（標準化なし）56.0 %\n",
    "* ホールドアウト（標準化あり）64.3 %\n",
    "* 交差検証（標準化あり）56.0 %\n",
    "* 決定木　72.4 %\n",
    "* ランダムフォレスト　72.2 %\n",
    "* 重くて動かなかったもの(SVM)やエラーがでたまま時間切れになった手法（NN）については後日取り組む予定\n"
   ]
  },
  {
   "cell_type": "code",
   "execution_count": 37,
   "metadata": {},
   "outputs": [],
   "source": [
    "#ライブラリのインポート\n",
    "import numpy as np\n",
    "import pandas as pd\n",
    "import scipy as sp\n",
    "import matplotlib.pyplot as plt\n",
    "%matplotlib inline\n",
    "import seaborn as sns\n",
    "import plotly.offline as py\n",
    "import plotly.graph_objs as go\n",
    "import cufflinks as cf\n",
    "from sklearn.linear_model import SGDClassifier\n",
    "from sklearn.metrics import log_loss, accuracy_score, confusion_matrix\n",
    "from sklearn.model_selection import train_test_split # ホールドアウト法に関する関数\n",
    "from sklearn.model_selection import KFold # 交差検証法に関する関数\n",
    "from sklearn.metrics import mean_absolute_error # 回帰問題における性能評価に関する関数\n",
    "from sklearn.linear_model import LinearRegression\n",
    "from sklearn.svm import SVC\n",
    "from sklearn.preprocessing import StandardScaler\n",
    "from sklearn.model_selection import GridSearchCV\n",
    "from sklearn.tree import DecisionTreeClassifier, export_graphviz\n",
    "from sklearn.ensemble import RandomForestClassifier\n",
    "from sklearn.metrics import accuracy_score,f1_score,recall_score,precision_score,classification_report\n",
    "from sklearn.metrics import confusion_matrix\n",
    "from tensorflow import keras  \n",
    "import tensorflow as tf\n",
    "from tensorflow.keras.utils import to_categorical\n",
    "from tensorflow.compat.v1.keras import Sequential\n",
    "from tensorflow.compat.v1.keras.layers import Dense, Dropout, Activation\n",
    "from tensorflow.compat.v1.keras.optimizers import SGD,RMSprop, Adagrad, Adadelta, Adam\n",
    "\n",
    "#from common_func import plot_decision_regions"
   ]
  },
  {
   "cell_type": "code",
   "execution_count": 3,
   "metadata": {
    "scrolled": true
   },
   "outputs": [
    {
     "data": {
      "text/html": [
       "<div>\n",
       "<style scoped>\n",
       "    .dataframe tbody tr th:only-of-type {\n",
       "        vertical-align: middle;\n",
       "    }\n",
       "\n",
       "    .dataframe tbody tr th {\n",
       "        vertical-align: top;\n",
       "    }\n",
       "\n",
       "    .dataframe thead th {\n",
       "        text-align: right;\n",
       "    }\n",
       "</style>\n",
       "<table border=\"1\" class=\"dataframe\">\n",
       "  <thead>\n",
       "    <tr style=\"text-align: right;\">\n",
       "      <th></th>\n",
       "      <th>main_category</th>\n",
       "      <th>currency</th>\n",
       "      <th>goal</th>\n",
       "      <th>deadline</th>\n",
       "      <th>launched</th>\n",
       "      <th>state</th>\n",
       "    </tr>\n",
       "  </thead>\n",
       "  <tbody>\n",
       "    <tr>\n",
       "      <th>0</th>\n",
       "      <td>Publishing</td>\n",
       "      <td>GBP</td>\n",
       "      <td>1000.0</td>\n",
       "      <td>2015-10-09</td>\n",
       "      <td>2015-08-11 12:12:28</td>\n",
       "      <td>failed</td>\n",
       "    </tr>\n",
       "    <tr>\n",
       "      <th>1</th>\n",
       "      <td>Film &amp; Video</td>\n",
       "      <td>USD</td>\n",
       "      <td>30000.0</td>\n",
       "      <td>2017-11-01</td>\n",
       "      <td>2017-09-02 04:43:57</td>\n",
       "      <td>failed</td>\n",
       "    </tr>\n",
       "    <tr>\n",
       "      <th>2</th>\n",
       "      <td>Film &amp; Video</td>\n",
       "      <td>USD</td>\n",
       "      <td>45000.0</td>\n",
       "      <td>2013-02-26</td>\n",
       "      <td>2013-01-12 00:20:50</td>\n",
       "      <td>failed</td>\n",
       "    </tr>\n",
       "    <tr>\n",
       "      <th>3</th>\n",
       "      <td>Music</td>\n",
       "      <td>USD</td>\n",
       "      <td>5000.0</td>\n",
       "      <td>2012-04-16</td>\n",
       "      <td>2012-03-17 03:24:11</td>\n",
       "      <td>failed</td>\n",
       "    </tr>\n",
       "    <tr>\n",
       "      <th>4</th>\n",
       "      <td>Film &amp; Video</td>\n",
       "      <td>USD</td>\n",
       "      <td>19500.0</td>\n",
       "      <td>2015-08-29</td>\n",
       "      <td>2015-07-04 08:35:03</td>\n",
       "      <td>canceled</td>\n",
       "    </tr>\n",
       "    <tr>\n",
       "      <th>5</th>\n",
       "      <td>Food</td>\n",
       "      <td>USD</td>\n",
       "      <td>50000.0</td>\n",
       "      <td>2016-04-01</td>\n",
       "      <td>2016-02-26 13:38:27</td>\n",
       "      <td>successful</td>\n",
       "    </tr>\n",
       "    <tr>\n",
       "      <th>6</th>\n",
       "      <td>Food</td>\n",
       "      <td>USD</td>\n",
       "      <td>1000.0</td>\n",
       "      <td>2014-12-21</td>\n",
       "      <td>2014-12-01 18:30:44</td>\n",
       "      <td>successful</td>\n",
       "    </tr>\n",
       "    <tr>\n",
       "      <th>7</th>\n",
       "      <td>Food</td>\n",
       "      <td>USD</td>\n",
       "      <td>25000.0</td>\n",
       "      <td>2016-03-17</td>\n",
       "      <td>2016-02-01 20:05:12</td>\n",
       "      <td>failed</td>\n",
       "    </tr>\n",
       "    <tr>\n",
       "      <th>8</th>\n",
       "      <td>Design</td>\n",
       "      <td>USD</td>\n",
       "      <td>125000.0</td>\n",
       "      <td>2014-05-29</td>\n",
       "      <td>2014-04-24 18:14:43</td>\n",
       "      <td>canceled</td>\n",
       "    </tr>\n",
       "    <tr>\n",
       "      <th>9</th>\n",
       "      <td>Film &amp; Video</td>\n",
       "      <td>USD</td>\n",
       "      <td>65000.0</td>\n",
       "      <td>2014-08-10</td>\n",
       "      <td>2014-07-11 21:55:48</td>\n",
       "      <td>canceled</td>\n",
       "    </tr>\n",
       "    <tr>\n",
       "      <th>10</th>\n",
       "      <td>Publishing</td>\n",
       "      <td>CAD</td>\n",
       "      <td>2500.0</td>\n",
       "      <td>2013-10-09</td>\n",
       "      <td>2013-09-09 18:19:37</td>\n",
       "      <td>failed</td>\n",
       "    </tr>\n",
       "    <tr>\n",
       "      <th>11</th>\n",
       "      <td>Music</td>\n",
       "      <td>USD</td>\n",
       "      <td>12500.0</td>\n",
       "      <td>2013-04-08</td>\n",
       "      <td>2013-03-09 06:42:58</td>\n",
       "      <td>successful</td>\n",
       "    </tr>\n",
       "    <tr>\n",
       "      <th>12</th>\n",
       "      <td>Crafts</td>\n",
       "      <td>USD</td>\n",
       "      <td>5000.0</td>\n",
       "      <td>2014-10-02</td>\n",
       "      <td>2014-09-02 17:11:50</td>\n",
       "      <td>failed</td>\n",
       "    </tr>\n",
       "    <tr>\n",
       "      <th>13</th>\n",
       "      <td>Games</td>\n",
       "      <td>USD</td>\n",
       "      <td>200000.0</td>\n",
       "      <td>2016-03-25</td>\n",
       "      <td>2016-02-09 23:01:12</td>\n",
       "      <td>failed</td>\n",
       "    </tr>\n",
       "    <tr>\n",
       "      <th>14</th>\n",
       "      <td>Games</td>\n",
       "      <td>GBP</td>\n",
       "      <td>5000.0</td>\n",
       "      <td>2017-05-03</td>\n",
       "      <td>2017-04-05 19:44:18</td>\n",
       "      <td>successful</td>\n",
       "    </tr>\n",
       "    <tr>\n",
       "      <th>15</th>\n",
       "      <td>Design</td>\n",
       "      <td>USD</td>\n",
       "      <td>2500.0</td>\n",
       "      <td>2015-02-28</td>\n",
       "      <td>2015-01-29 02:10:53</td>\n",
       "      <td>failed</td>\n",
       "    </tr>\n",
       "    <tr>\n",
       "      <th>16</th>\n",
       "      <td>Comics</td>\n",
       "      <td>USD</td>\n",
       "      <td>1500.0</td>\n",
       "      <td>2014-11-08</td>\n",
       "      <td>2014-10-09 22:27:52</td>\n",
       "      <td>failed</td>\n",
       "    </tr>\n",
       "    <tr>\n",
       "      <th>17</th>\n",
       "      <td>Publishing</td>\n",
       "      <td>USD</td>\n",
       "      <td>3000.0</td>\n",
       "      <td>2015-05-10</td>\n",
       "      <td>2015-04-10 21:20:54</td>\n",
       "      <td>failed</td>\n",
       "    </tr>\n",
       "    <tr>\n",
       "      <th>18</th>\n",
       "      <td>Music</td>\n",
       "      <td>USD</td>\n",
       "      <td>250.0</td>\n",
       "      <td>2012-08-17</td>\n",
       "      <td>2012-08-02 14:11:32</td>\n",
       "      <td>successful</td>\n",
       "    </tr>\n",
       "    <tr>\n",
       "      <th>19</th>\n",
       "      <td>Food</td>\n",
       "      <td>USD</td>\n",
       "      <td>5000.0</td>\n",
       "      <td>2012-06-02</td>\n",
       "      <td>2012-05-03 17:24:32</td>\n",
       "      <td>failed</td>\n",
       "    </tr>\n",
       "  </tbody>\n",
       "</table>\n",
       "</div>"
      ],
      "text/plain": [
       "   main_category currency      goal    deadline             launched  \\\n",
       "0     Publishing      GBP    1000.0  2015-10-09  2015-08-11 12:12:28   \n",
       "1   Film & Video      USD   30000.0  2017-11-01  2017-09-02 04:43:57   \n",
       "2   Film & Video      USD   45000.0  2013-02-26  2013-01-12 00:20:50   \n",
       "3          Music      USD    5000.0  2012-04-16  2012-03-17 03:24:11   \n",
       "4   Film & Video      USD   19500.0  2015-08-29  2015-07-04 08:35:03   \n",
       "5           Food      USD   50000.0  2016-04-01  2016-02-26 13:38:27   \n",
       "6           Food      USD    1000.0  2014-12-21  2014-12-01 18:30:44   \n",
       "7           Food      USD   25000.0  2016-03-17  2016-02-01 20:05:12   \n",
       "8         Design      USD  125000.0  2014-05-29  2014-04-24 18:14:43   \n",
       "9   Film & Video      USD   65000.0  2014-08-10  2014-07-11 21:55:48   \n",
       "10    Publishing      CAD    2500.0  2013-10-09  2013-09-09 18:19:37   \n",
       "11         Music      USD   12500.0  2013-04-08  2013-03-09 06:42:58   \n",
       "12        Crafts      USD    5000.0  2014-10-02  2014-09-02 17:11:50   \n",
       "13         Games      USD  200000.0  2016-03-25  2016-02-09 23:01:12   \n",
       "14         Games      GBP    5000.0  2017-05-03  2017-04-05 19:44:18   \n",
       "15        Design      USD    2500.0  2015-02-28  2015-01-29 02:10:53   \n",
       "16        Comics      USD    1500.0  2014-11-08  2014-10-09 22:27:52   \n",
       "17    Publishing      USD    3000.0  2015-05-10  2015-04-10 21:20:54   \n",
       "18         Music      USD     250.0  2012-08-17  2012-08-02 14:11:32   \n",
       "19          Food      USD    5000.0  2012-06-02  2012-05-03 17:24:32   \n",
       "\n",
       "         state  \n",
       "0       failed  \n",
       "1       failed  \n",
       "2       failed  \n",
       "3       failed  \n",
       "4     canceled  \n",
       "5   successful  \n",
       "6   successful  \n",
       "7       failed  \n",
       "8     canceled  \n",
       "9     canceled  \n",
       "10      failed  \n",
       "11  successful  \n",
       "12      failed  \n",
       "13      failed  \n",
       "14  successful  \n",
       "15      failed  \n",
       "16      failed  \n",
       "17      failed  \n",
       "18  successful  \n",
       "19      failed  "
      ]
     },
     "metadata": {},
     "output_type": "display_data"
    },
    {
     "name": "stdout",
     "output_type": "stream",
     "text": [
      "<class 'pandas.core.frame.DataFrame'>\n",
      "RangeIndex: 378661 entries, 0 to 378660\n",
      "Data columns (total 6 columns):\n",
      "main_category    378661 non-null object\n",
      "currency         378661 non-null object\n",
      "goal             378661 non-null float64\n",
      "deadline         378661 non-null object\n",
      "launched         378661 non-null object\n",
      "state            378661 non-null object\n",
      "dtypes: float64(1), object(5)\n",
      "memory usage: 17.3+ MB\n"
     ]
    }
   ],
   "source": [
    "#データセットのインポート\n",
    "df_project=pd.read_csv(\"../1_data/ks-projects-201801.csv\")[[\"main_category\",\"currency\",\"goal\",\"deadline\",\"launched\",\"state\"]]\n",
    "\n",
    "#表示\n",
    "display(df_project.head(20))\n",
    "df_project.describe()\n",
    "df_project.info()"
   ]
  },
  {
   "cell_type": "code",
   "execution_count": 4,
   "metadata": {
    "scrolled": true
   },
   "outputs": [
    {
     "name": "stdout",
     "output_type": "stream",
     "text": [
      "failed        197719\n",
      "successful    133956\n",
      "canceled       38779\n",
      "undefined       3562\n",
      "live            2799\n",
      "suspended       1846\n",
      "Name: state, dtype: int64\n"
     ]
    }
   ],
   "source": [
    "#stateの中身を確認\n",
    "print(df_project.state.value_counts())"
   ]
  },
  {
   "cell_type": "code",
   "execution_count": 5,
   "metadata": {},
   "outputs": [],
   "source": [
    "#日数計算\n",
    "df_project['deadline'] = pd.to_datetime(df_project['deadline'],format='%Y-%m-%d')\n",
    "df_project['launched'] = pd.to_datetime(df_project['launched'],format='%Y-%m-%d')\n",
    "\n",
    "df_project['count'] = (df_project['deadline'] - df_project['launched']).astype('timedelta64[D]')\n",
    "count = df_project['count'].value_counts()"
   ]
  },
  {
   "cell_type": "code",
   "execution_count": 6,
   "metadata": {},
   "outputs": [
    {
     "data": {
      "text/html": [
       "<div>\n",
       "<style scoped>\n",
       "    .dataframe tbody tr th:only-of-type {\n",
       "        vertical-align: middle;\n",
       "    }\n",
       "\n",
       "    .dataframe tbody tr th {\n",
       "        vertical-align: top;\n",
       "    }\n",
       "\n",
       "    .dataframe thead th {\n",
       "        text-align: right;\n",
       "    }\n",
       "</style>\n",
       "<table border=\"1\" class=\"dataframe\">\n",
       "  <thead>\n",
       "    <tr style=\"text-align: right;\">\n",
       "      <th></th>\n",
       "      <th>main_category</th>\n",
       "      <th>currency</th>\n",
       "      <th>goal</th>\n",
       "      <th>deadline</th>\n",
       "      <th>launched</th>\n",
       "      <th>state</th>\n",
       "      <th>count</th>\n",
       "    </tr>\n",
       "  </thead>\n",
       "  <tbody>\n",
       "    <tr>\n",
       "      <th>0</th>\n",
       "      <td>Publishing</td>\n",
       "      <td>GBP</td>\n",
       "      <td>1000.0</td>\n",
       "      <td>2015-10-09</td>\n",
       "      <td>2015-08-11 12:12:28</td>\n",
       "      <td>failed</td>\n",
       "      <td>58.0</td>\n",
       "    </tr>\n",
       "    <tr>\n",
       "      <th>1</th>\n",
       "      <td>Film &amp; Video</td>\n",
       "      <td>USD</td>\n",
       "      <td>30000.0</td>\n",
       "      <td>2017-11-01</td>\n",
       "      <td>2017-09-02 04:43:57</td>\n",
       "      <td>failed</td>\n",
       "      <td>59.0</td>\n",
       "    </tr>\n",
       "    <tr>\n",
       "      <th>2</th>\n",
       "      <td>Film &amp; Video</td>\n",
       "      <td>USD</td>\n",
       "      <td>45000.0</td>\n",
       "      <td>2013-02-26</td>\n",
       "      <td>2013-01-12 00:20:50</td>\n",
       "      <td>failed</td>\n",
       "      <td>44.0</td>\n",
       "    </tr>\n",
       "    <tr>\n",
       "      <th>3</th>\n",
       "      <td>Music</td>\n",
       "      <td>USD</td>\n",
       "      <td>5000.0</td>\n",
       "      <td>2012-04-16</td>\n",
       "      <td>2012-03-17 03:24:11</td>\n",
       "      <td>failed</td>\n",
       "      <td>29.0</td>\n",
       "    </tr>\n",
       "    <tr>\n",
       "      <th>4</th>\n",
       "      <td>Film &amp; Video</td>\n",
       "      <td>USD</td>\n",
       "      <td>19500.0</td>\n",
       "      <td>2015-08-29</td>\n",
       "      <td>2015-07-04 08:35:03</td>\n",
       "      <td>canceled</td>\n",
       "      <td>55.0</td>\n",
       "    </tr>\n",
       "  </tbody>\n",
       "</table>\n",
       "</div>"
      ],
      "text/plain": [
       "  main_category currency     goal   deadline            launched     state  \\\n",
       "0    Publishing      GBP   1000.0 2015-10-09 2015-08-11 12:12:28    failed   \n",
       "1  Film & Video      USD  30000.0 2017-11-01 2017-09-02 04:43:57    failed   \n",
       "2  Film & Video      USD  45000.0 2013-02-26 2013-01-12 00:20:50    failed   \n",
       "3         Music      USD   5000.0 2012-04-16 2012-03-17 03:24:11    failed   \n",
       "4  Film & Video      USD  19500.0 2015-08-29 2015-07-04 08:35:03  canceled   \n",
       "\n",
       "   count  \n",
       "0   58.0  \n",
       "1   59.0  \n",
       "2   44.0  \n",
       "3   29.0  \n",
       "4   55.0  "
      ]
     },
     "metadata": {},
     "output_type": "display_data"
    }
   ],
   "source": [
    "display(df_project.head())"
   ]
  },
  {
   "cell_type": "code",
   "execution_count": 7,
   "metadata": {},
   "outputs": [
    {
     "name": "stdout",
     "output_type": "stream",
     "text": [
      "failed        197719\n",
      "successful    133956\n",
      "canceled       38779\n",
      "undefined       3562\n",
      "live            2799\n",
      "suspended       1846\n",
      "Name: state, dtype: int64\n"
     ]
    }
   ],
   "source": [
    "print(df_project.state.value_counts())"
   ]
  },
  {
   "cell_type": "code",
   "execution_count": 8,
   "metadata": {},
   "outputs": [
    {
     "name": "stdout",
     "output_type": "stream",
     "text": [
      "failed        197719\n",
      "successful    133956\n",
      "Name: state, dtype: int64\n"
     ]
    }
   ],
   "source": [
    "#successful、failedのみを残しその他は削除\n",
    "df_project_test = df_project.copy()\n",
    "df_project_test = df_project_test[df_project_test['state'] != 'live']\n",
    "df_project_test = df_project_test[df_project_test['state'] != 'canceled']\n",
    "df_project_test = df_project_test[df_project_test['state'] != 'suspended']\n",
    "df_project_test = df_project_test[df_project_test['state'] != 'undefined']\n",
    "df_project_test['Success'] = df_project_test['state'] == \"successful\"\n",
    "print(df_project_test.state.value_counts())"
   ]
  },
  {
   "cell_type": "code",
   "execution_count": 9,
   "metadata": {},
   "outputs": [
    {
     "data": {
      "text/html": [
       "<div>\n",
       "<style scoped>\n",
       "    .dataframe tbody tr th:only-of-type {\n",
       "        vertical-align: middle;\n",
       "    }\n",
       "\n",
       "    .dataframe tbody tr th {\n",
       "        vertical-align: top;\n",
       "    }\n",
       "\n",
       "    .dataframe thead th {\n",
       "        text-align: right;\n",
       "    }\n",
       "</style>\n",
       "<table border=\"1\" class=\"dataframe\">\n",
       "  <thead>\n",
       "    <tr style=\"text-align: right;\">\n",
       "      <th></th>\n",
       "      <th>main_category</th>\n",
       "      <th>currency</th>\n",
       "      <th>goal</th>\n",
       "      <th>deadline</th>\n",
       "      <th>launched</th>\n",
       "      <th>state</th>\n",
       "      <th>count</th>\n",
       "      <th>Success</th>\n",
       "    </tr>\n",
       "  </thead>\n",
       "  <tbody>\n",
       "    <tr>\n",
       "      <th>0</th>\n",
       "      <td>Publishing</td>\n",
       "      <td>GBP</td>\n",
       "      <td>1000.0</td>\n",
       "      <td>2015-10-09</td>\n",
       "      <td>2015-08-11 12:12:28</td>\n",
       "      <td>failed</td>\n",
       "      <td>58.0</td>\n",
       "      <td>False</td>\n",
       "    </tr>\n",
       "    <tr>\n",
       "      <th>1</th>\n",
       "      <td>Film &amp; Video</td>\n",
       "      <td>USD</td>\n",
       "      <td>30000.0</td>\n",
       "      <td>2017-11-01</td>\n",
       "      <td>2017-09-02 04:43:57</td>\n",
       "      <td>failed</td>\n",
       "      <td>59.0</td>\n",
       "      <td>False</td>\n",
       "    </tr>\n",
       "    <tr>\n",
       "      <th>2</th>\n",
       "      <td>Film &amp; Video</td>\n",
       "      <td>USD</td>\n",
       "      <td>45000.0</td>\n",
       "      <td>2013-02-26</td>\n",
       "      <td>2013-01-12 00:20:50</td>\n",
       "      <td>failed</td>\n",
       "      <td>44.0</td>\n",
       "      <td>False</td>\n",
       "    </tr>\n",
       "    <tr>\n",
       "      <th>3</th>\n",
       "      <td>Music</td>\n",
       "      <td>USD</td>\n",
       "      <td>5000.0</td>\n",
       "      <td>2012-04-16</td>\n",
       "      <td>2012-03-17 03:24:11</td>\n",
       "      <td>failed</td>\n",
       "      <td>29.0</td>\n",
       "      <td>False</td>\n",
       "    </tr>\n",
       "    <tr>\n",
       "      <th>5</th>\n",
       "      <td>Food</td>\n",
       "      <td>USD</td>\n",
       "      <td>50000.0</td>\n",
       "      <td>2016-04-01</td>\n",
       "      <td>2016-02-26 13:38:27</td>\n",
       "      <td>successful</td>\n",
       "      <td>34.0</td>\n",
       "      <td>True</td>\n",
       "    </tr>\n",
       "  </tbody>\n",
       "</table>\n",
       "</div>"
      ],
      "text/plain": [
       "  main_category currency     goal   deadline            launched       state  \\\n",
       "0    Publishing      GBP   1000.0 2015-10-09 2015-08-11 12:12:28      failed   \n",
       "1  Film & Video      USD  30000.0 2017-11-01 2017-09-02 04:43:57      failed   \n",
       "2  Film & Video      USD  45000.0 2013-02-26 2013-01-12 00:20:50      failed   \n",
       "3         Music      USD   5000.0 2012-04-16 2012-03-17 03:24:11      failed   \n",
       "5          Food      USD  50000.0 2016-04-01 2016-02-26 13:38:27  successful   \n",
       "\n",
       "   count  Success  \n",
       "0   58.0    False  \n",
       "1   59.0    False  \n",
       "2   44.0    False  \n",
       "3   29.0    False  \n",
       "5   34.0     True  "
      ]
     },
     "metadata": {},
     "output_type": "display_data"
    }
   ],
   "source": [
    "display(df_project_test.head())"
   ]
  },
  {
   "cell_type": "code",
   "execution_count": 10,
   "metadata": {},
   "outputs": [],
   "source": [
    "#state等を削除\n",
    "drop_columns = ['state','deadline','launched']\n",
    "df_project_test = df_project_test.drop(drop_columns, axis = 1)"
   ]
  },
  {
   "cell_type": "code",
   "execution_count": 11,
   "metadata": {},
   "outputs": [
    {
     "data": {
      "text/plain": [
       "main_category    0\n",
       "currency         0\n",
       "goal             0\n",
       "count            0\n",
       "Success          0\n",
       "dtype: int64"
      ]
     },
     "execution_count": 11,
     "metadata": {},
     "output_type": "execute_result"
    }
   ],
   "source": [
    "df_project_test.isnull().sum()"
   ]
  },
  {
   "cell_type": "code",
   "execution_count": 12,
   "metadata": {
    "scrolled": true
   },
   "outputs": [
    {
     "data": {
      "text/html": [
       "<div>\n",
       "<style scoped>\n",
       "    .dataframe tbody tr th:only-of-type {\n",
       "        vertical-align: middle;\n",
       "    }\n",
       "\n",
       "    .dataframe tbody tr th {\n",
       "        vertical-align: top;\n",
       "    }\n",
       "\n",
       "    .dataframe thead th {\n",
       "        text-align: right;\n",
       "    }\n",
       "</style>\n",
       "<table border=\"1\" class=\"dataframe\">\n",
       "  <thead>\n",
       "    <tr style=\"text-align: right;\">\n",
       "      <th></th>\n",
       "      <th>goal</th>\n",
       "      <th>count</th>\n",
       "      <th>Success</th>\n",
       "      <th>main_category_Art</th>\n",
       "      <th>main_category_Comics</th>\n",
       "      <th>main_category_Crafts</th>\n",
       "      <th>main_category_Dance</th>\n",
       "      <th>main_category_Design</th>\n",
       "      <th>main_category_Fashion</th>\n",
       "      <th>main_category_Film &amp; Video</th>\n",
       "      <th>...</th>\n",
       "      <th>currency_EUR</th>\n",
       "      <th>currency_GBP</th>\n",
       "      <th>currency_HKD</th>\n",
       "      <th>currency_JPY</th>\n",
       "      <th>currency_MXN</th>\n",
       "      <th>currency_NOK</th>\n",
       "      <th>currency_NZD</th>\n",
       "      <th>currency_SEK</th>\n",
       "      <th>currency_SGD</th>\n",
       "      <th>currency_USD</th>\n",
       "    </tr>\n",
       "  </thead>\n",
       "  <tbody>\n",
       "    <tr>\n",
       "      <th>0</th>\n",
       "      <td>1000.0</td>\n",
       "      <td>58.0</td>\n",
       "      <td>False</td>\n",
       "      <td>0</td>\n",
       "      <td>0</td>\n",
       "      <td>0</td>\n",
       "      <td>0</td>\n",
       "      <td>0</td>\n",
       "      <td>0</td>\n",
       "      <td>0</td>\n",
       "      <td>...</td>\n",
       "      <td>0</td>\n",
       "      <td>1</td>\n",
       "      <td>0</td>\n",
       "      <td>0</td>\n",
       "      <td>0</td>\n",
       "      <td>0</td>\n",
       "      <td>0</td>\n",
       "      <td>0</td>\n",
       "      <td>0</td>\n",
       "      <td>0</td>\n",
       "    </tr>\n",
       "    <tr>\n",
       "      <th>1</th>\n",
       "      <td>30000.0</td>\n",
       "      <td>59.0</td>\n",
       "      <td>False</td>\n",
       "      <td>0</td>\n",
       "      <td>0</td>\n",
       "      <td>0</td>\n",
       "      <td>0</td>\n",
       "      <td>0</td>\n",
       "      <td>0</td>\n",
       "      <td>1</td>\n",
       "      <td>...</td>\n",
       "      <td>0</td>\n",
       "      <td>0</td>\n",
       "      <td>0</td>\n",
       "      <td>0</td>\n",
       "      <td>0</td>\n",
       "      <td>0</td>\n",
       "      <td>0</td>\n",
       "      <td>0</td>\n",
       "      <td>0</td>\n",
       "      <td>1</td>\n",
       "    </tr>\n",
       "    <tr>\n",
       "      <th>2</th>\n",
       "      <td>45000.0</td>\n",
       "      <td>44.0</td>\n",
       "      <td>False</td>\n",
       "      <td>0</td>\n",
       "      <td>0</td>\n",
       "      <td>0</td>\n",
       "      <td>0</td>\n",
       "      <td>0</td>\n",
       "      <td>0</td>\n",
       "      <td>1</td>\n",
       "      <td>...</td>\n",
       "      <td>0</td>\n",
       "      <td>0</td>\n",
       "      <td>0</td>\n",
       "      <td>0</td>\n",
       "      <td>0</td>\n",
       "      <td>0</td>\n",
       "      <td>0</td>\n",
       "      <td>0</td>\n",
       "      <td>0</td>\n",
       "      <td>1</td>\n",
       "    </tr>\n",
       "    <tr>\n",
       "      <th>3</th>\n",
       "      <td>5000.0</td>\n",
       "      <td>29.0</td>\n",
       "      <td>False</td>\n",
       "      <td>0</td>\n",
       "      <td>0</td>\n",
       "      <td>0</td>\n",
       "      <td>0</td>\n",
       "      <td>0</td>\n",
       "      <td>0</td>\n",
       "      <td>0</td>\n",
       "      <td>...</td>\n",
       "      <td>0</td>\n",
       "      <td>0</td>\n",
       "      <td>0</td>\n",
       "      <td>0</td>\n",
       "      <td>0</td>\n",
       "      <td>0</td>\n",
       "      <td>0</td>\n",
       "      <td>0</td>\n",
       "      <td>0</td>\n",
       "      <td>1</td>\n",
       "    </tr>\n",
       "    <tr>\n",
       "      <th>5</th>\n",
       "      <td>50000.0</td>\n",
       "      <td>34.0</td>\n",
       "      <td>True</td>\n",
       "      <td>0</td>\n",
       "      <td>0</td>\n",
       "      <td>0</td>\n",
       "      <td>0</td>\n",
       "      <td>0</td>\n",
       "      <td>0</td>\n",
       "      <td>0</td>\n",
       "      <td>...</td>\n",
       "      <td>0</td>\n",
       "      <td>0</td>\n",
       "      <td>0</td>\n",
       "      <td>0</td>\n",
       "      <td>0</td>\n",
       "      <td>0</td>\n",
       "      <td>0</td>\n",
       "      <td>0</td>\n",
       "      <td>0</td>\n",
       "      <td>1</td>\n",
       "    </tr>\n",
       "  </tbody>\n",
       "</table>\n",
       "<p>5 rows × 32 columns</p>\n",
       "</div>"
      ],
      "text/plain": [
       "      goal  count  Success  main_category_Art  main_category_Comics  \\\n",
       "0   1000.0   58.0    False                  0                     0   \n",
       "1  30000.0   59.0    False                  0                     0   \n",
       "2  45000.0   44.0    False                  0                     0   \n",
       "3   5000.0   29.0    False                  0                     0   \n",
       "5  50000.0   34.0     True                  0                     0   \n",
       "\n",
       "   main_category_Crafts  main_category_Dance  main_category_Design  \\\n",
       "0                     0                    0                     0   \n",
       "1                     0                    0                     0   \n",
       "2                     0                    0                     0   \n",
       "3                     0                    0                     0   \n",
       "5                     0                    0                     0   \n",
       "\n",
       "   main_category_Fashion  main_category_Film & Video  ...  currency_EUR  \\\n",
       "0                      0                           0  ...             0   \n",
       "1                      0                           1  ...             0   \n",
       "2                      0                           1  ...             0   \n",
       "3                      0                           0  ...             0   \n",
       "5                      0                           0  ...             0   \n",
       "\n",
       "   currency_GBP  currency_HKD  currency_JPY  currency_MXN  currency_NOK  \\\n",
       "0             1             0             0             0             0   \n",
       "1             0             0             0             0             0   \n",
       "2             0             0             0             0             0   \n",
       "3             0             0             0             0             0   \n",
       "5             0             0             0             0             0   \n",
       "\n",
       "   currency_NZD  currency_SEK  currency_SGD  currency_USD  \n",
       "0             0             0             0             0  \n",
       "1             0             0             0             1  \n",
       "2             0             0             0             1  \n",
       "3             0             0             0             1  \n",
       "5             0             0             0             1  \n",
       "\n",
       "[5 rows x 32 columns]"
      ]
     },
     "metadata": {},
     "output_type": "display_data"
    }
   ],
   "source": [
    "#ダミー変数作成\n",
    "df_project_test=pd.get_dummies(df_project_test)\n",
    "display(df_project_test.head())"
   ]
  },
  {
   "cell_type": "code",
   "execution_count": 13,
   "metadata": {},
   "outputs": [
    {
     "data": {
      "text/plain": [
       "<matplotlib.axes._subplots.AxesSubplot at 0x1b550624c18>"
      ]
     },
     "execution_count": 13,
     "metadata": {},
     "output_type": "execute_result"
    },
    {
     "data": {
      "image/png": "[encoded data removed]",
      "text/plain": [
       "<Figure size 432x288 with 2 Axes>"
      ]
     },
     "metadata": {
      "needs_background": "light"
     },
     "output_type": "display_data"
    }
   ],
   "source": [
    "#相関マップ\n",
    "#df_project.corr().style.background_gradient(cmap='coolwarm')\n",
    "#sns.heatmap(df_project.corr(), cmap='coolwarm', vmin=-1, vmax=1\n",
    "sns.heatmap(df_project_test.corr(),cmap=\"coolwarm\")"
   ]
  },
  {
   "cell_type": "code",
   "execution_count": null,
   "metadata": {},
   "outputs": [],
   "source": [
    "#散布図を作成\n",
    "#pd.plotting.scatter_matrix(df_project_test.head(1000), figsize=(10,10))"
   ]
  },
  {
   "cell_type": "code",
   "execution_count": 14,
   "metadata": {},
   "outputs": [],
   "source": [
    "y = df_project_test[\"Success\"].values\n",
    "X = df_project_test.drop('Success', axis=1).values"
   ]
  },
  {
   "cell_type": "code",
   "execution_count": 15,
   "metadata": {},
   "outputs": [],
   "source": [
    "#ホールドアウト法を使用\n",
    "test_size = 0.2        # 全データのうち、何%をテストデータにするか（今回は20%に設定）\n",
    "X_train, X_test, y_train, y_test = train_test_split(X, y, test_size=test_size, random_state=1234) # ホールドアウト法を実行（テストデータはランダム選択）"
   ]
  },
  {
   "cell_type": "code",
   "execution_count": 16,
   "metadata": {},
   "outputs": [
    {
     "name": "stdout",
     "output_type": "stream",
     "text": [
      "w0 = 8239.281, w1 = -545.635, w2 = 206481.500, w3 = 540.181, w4 = 560.220, w5 = -227.914, w6 = 296.700, w7 = 1041.194,w8 = -102.407, w9 = 1853.440, w10 = 164.057, w11 = 1234.524, w12 = -69.875,w13 = 1994.457, w14 = -29.799, w15 = 119.838\n"
     ]
    }
   ],
   "source": [
    "#ロジスティック回帰を実装（標準化なし）\n",
    "clf = SGDClassifier(loss='log', penalty='none', max_iter=10000, fit_intercept=True, random_state=1234, tol=1e-3)\n",
    "clf.fit(X_train, y_train)\n",
    "\n",
    "# 重みを取得して表示\n",
    "w0 = clf.intercept_[0]\n",
    "w1 = clf.coef_[0, 0]\n",
    "w2 = clf.coef_[0, 1]\n",
    "w3 = clf.coef_[0, 2]\n",
    "w4 = clf.coef_[0, 3]\n",
    "w5 = clf.coef_[0, 4]\n",
    "w6 = clf.coef_[0, 5]\n",
    "w7 = clf.coef_[0, 6]\n",
    "w8 = clf.coef_[0, 7]\n",
    "w9 = clf.coef_[0, 8]\n",
    "w10 = clf.coef_[0, 9]\n",
    "w11 = clf.coef_[0, 10]\n",
    "w12 = clf.coef_[0, 11]\n",
    "w13 = clf.coef_[0, 12]\n",
    "w14 = clf.coef_[0, 13]\n",
    "w15 = clf.coef_[0, 14]\n",
    "print('w0 = {:.3f}, w1 = {:.3f}, w2 = {:.3f}, w3 = {:.3f}, w4 = {:.3f}, w5 = {:.3f}, w6 = {:.3f}, w7 = {:.3f},w8 = {:.3f}, w9 = {:.3f}, w10 = {:.3f}, w11 = {:.3f}, w12 = {:.3f},w13 = {:.3f}, w14 = {:.3f}, w15 = {:.3f}'.format(w0, w1, w2, w3, w4, w5, w6, w7, w8, w9, w10, w11, w12, w13, w14, w15))"
   ]
  },
  {
   "cell_type": "code",
   "execution_count": 17,
   "metadata": {},
   "outputs": [
    {
     "name": "stdout",
     "output_type": "stream",
     "text": [
      "対数尤度 = -15.976\n",
      "正答率 = 53.745%\n"
     ]
    }
   ],
   "source": [
    "# ラベルを予測\n",
    "y_est = clf.predict(X_train)\n",
    "\n",
    "# 対数尤度を表示\n",
    "print('対数尤度 = {:.3f}'.format(- log_loss(y_train, y_est)))\n",
    "\n",
    "# 正答率を表示\n",
    "print('正答率 = {:.3f}%'.format(100 * accuracy_score(y_train, y_est)))"
   ]
  },
  {
   "cell_type": "code",
   "execution_count": null,
   "metadata": {},
   "outputs": [],
   "source": []
  },
  {
   "cell_type": "code",
   "execution_count": 18,
   "metadata": {},
   "outputs": [
    {
     "name": "stdout",
     "output_type": "stream",
     "text": [
      "対数尤度 = -16.056\n",
      "正答率 = 53.513%\n"
     ]
    }
   ],
   "source": [
    "# ラベルを予測\n",
    "y_est2 = clf.predict(X_test)\n",
    "\n",
    "# 対数尤度を表示\n",
    "print('対数尤度 = {:.3f}'.format(- log_loss(y_test, y_est2)))\n",
    "\n",
    "# 正答率を表示\n",
    "print('正答率 = {:.3f}%'.format(100 * accuracy_score(y_test, y_est2)))"
   ]
  },
  {
   "cell_type": "code",
   "execution_count": 19,
   "metadata": {},
   "outputs": [
    {
     "data": {
      "text/html": [
       "<div>\n",
       "<style scoped>\n",
       "    .dataframe tbody tr th:only-of-type {\n",
       "        vertical-align: middle;\n",
       "    }\n",
       "\n",
       "    .dataframe tbody tr th {\n",
       "        vertical-align: top;\n",
       "    }\n",
       "\n",
       "    .dataframe thead th {\n",
       "        text-align: right;\n",
       "    }\n",
       "</style>\n",
       "<table border=\"1\" class=\"dataframe\">\n",
       "  <thead>\n",
       "    <tr style=\"text-align: right;\">\n",
       "      <th></th>\n",
       "      <th>予測 = 失敗</th>\n",
       "      <th>予測 = 成功</th>\n",
       "    </tr>\n",
       "  </thead>\n",
       "  <tbody>\n",
       "    <tr>\n",
       "      <th>正解 = 失敗</th>\n",
       "      <td>14333</td>\n",
       "      <td>25395</td>\n",
       "    </tr>\n",
       "    <tr>\n",
       "      <th>正解 = 成功</th>\n",
       "      <td>5442</td>\n",
       "      <td>21165</td>\n",
       "    </tr>\n",
       "  </tbody>\n",
       "</table>\n",
       "</div>"
      ],
      "text/plain": [
       "         予測 = 失敗  予測 = 成功\n",
       "正解 = 失敗    14333    25395\n",
       "正解 = 成功     5442    21165"
      ]
     },
     "execution_count": 19,
     "metadata": {},
     "output_type": "execute_result"
    }
   ],
   "source": [
    "# 予測値と正解のクロス集計\n",
    "conf_mat2 = pd.DataFrame(confusion_matrix(y_test, y_est2), \n",
    "                        index=['正解 = 失敗', '正解 = 成功'], \n",
    "                        columns=['予測 = 失敗', '予測 = 成功'])\n",
    "conf_mat2"
   ]
  },
  {
   "cell_type": "code",
   "execution_count": 20,
   "metadata": {},
   "outputs": [
    {
     "name": "stdout",
     "output_type": "stream",
     "text": [
      "対数尤度 = -13.678\n",
      "対数尤度 = -13.800\n",
      "正答率_test = 60.399%\n",
      "正答率_train = 60.044%\n"
     ]
    },
    {
     "data": {
      "text/html": [
       "<div>\n",
       "<style scoped>\n",
       "    .dataframe tbody tr th:only-of-type {\n",
       "        vertical-align: middle;\n",
       "    }\n",
       "\n",
       "    .dataframe tbody tr th {\n",
       "        vertical-align: top;\n",
       "    }\n",
       "\n",
       "    .dataframe thead th {\n",
       "        text-align: right;\n",
       "    }\n",
       "</style>\n",
       "<table border=\"1\" class=\"dataframe\">\n",
       "  <thead>\n",
       "    <tr style=\"text-align: right;\">\n",
       "      <th></th>\n",
       "      <th>予測 = 失敗</th>\n",
       "      <th>予測 = 成功</th>\n",
       "    </tr>\n",
       "  </thead>\n",
       "  <tbody>\n",
       "    <tr>\n",
       "      <th>正解 = 失敗</th>\n",
       "      <td>38073</td>\n",
       "      <td>1655</td>\n",
       "    </tr>\n",
       "    <tr>\n",
       "      <th>正解 = 成功</th>\n",
       "      <td>24614</td>\n",
       "      <td>1993</td>\n",
       "    </tr>\n",
       "  </tbody>\n",
       "</table>\n",
       "</div>"
      ],
      "text/plain": [
       "         予測 = 失敗  予測 = 成功\n",
       "正解 = 失敗    38073     1655\n",
       "正解 = 成功    24614     1993"
      ]
     },
     "metadata": {},
     "output_type": "display_data"
    },
    {
     "name": "stdout",
     "output_type": "stream",
     "text": [
      "\n",
      "対数尤度 = -16.794\n",
      "対数尤度 = -16.818\n",
      "正答率_test = 51.379%\n",
      "正答率_train = 51.309%\n"
     ]
    },
    {
     "data": {
      "text/html": [
       "<div>\n",
       "<style scoped>\n",
       "    .dataframe tbody tr th:only-of-type {\n",
       "        vertical-align: middle;\n",
       "    }\n",
       "\n",
       "    .dataframe tbody tr th {\n",
       "        vertical-align: top;\n",
       "    }\n",
       "\n",
       "    .dataframe thead th {\n",
       "        text-align: right;\n",
       "    }\n",
       "</style>\n",
       "<table border=\"1\" class=\"dataframe\">\n",
       "  <thead>\n",
       "    <tr style=\"text-align: right;\">\n",
       "      <th></th>\n",
       "      <th>予測 = 失敗</th>\n",
       "      <th>予測 = 成功</th>\n",
       "    </tr>\n",
       "  </thead>\n",
       "  <tbody>\n",
       "    <tr>\n",
       "      <th>正解 = 失敗</th>\n",
       "      <td>10472</td>\n",
       "      <td>28987</td>\n",
       "    </tr>\n",
       "    <tr>\n",
       "      <th>正解 = 成功</th>\n",
       "      <td>3266</td>\n",
       "      <td>23610</td>\n",
       "    </tr>\n",
       "  </tbody>\n",
       "</table>\n",
       "</div>"
      ],
      "text/plain": [
       "         予測 = 失敗  予測 = 成功\n",
       "正解 = 失敗    10472    28987\n",
       "正解 = 成功     3266    23610"
      ]
     },
     "metadata": {},
     "output_type": "display_data"
    },
    {
     "name": "stdout",
     "output_type": "stream",
     "text": [
      "\n",
      "対数尤度 = -13.965\n",
      "対数尤度 = -13.873\n",
      "正答率_test = 59.567%\n",
      "正答率_train = 59.833%\n"
     ]
    },
    {
     "data": {
      "text/html": [
       "<div>\n",
       "<style scoped>\n",
       "    .dataframe tbody tr th:only-of-type {\n",
       "        vertical-align: middle;\n",
       "    }\n",
       "\n",
       "    .dataframe tbody tr th {\n",
       "        vertical-align: top;\n",
       "    }\n",
       "\n",
       "    .dataframe thead th {\n",
       "        text-align: right;\n",
       "    }\n",
       "</style>\n",
       "<table border=\"1\" class=\"dataframe\">\n",
       "  <thead>\n",
       "    <tr style=\"text-align: right;\">\n",
       "      <th></th>\n",
       "      <th>予測 = 失敗</th>\n",
       "      <th>予測 = 成功</th>\n",
       "    </tr>\n",
       "  </thead>\n",
       "  <tbody>\n",
       "    <tr>\n",
       "      <th>正解 = 失敗</th>\n",
       "      <td>39169</td>\n",
       "      <td>280</td>\n",
       "    </tr>\n",
       "    <tr>\n",
       "      <th>正解 = 成功</th>\n",
       "      <td>26541</td>\n",
       "      <td>345</td>\n",
       "    </tr>\n",
       "  </tbody>\n",
       "</table>\n",
       "</div>"
      ],
      "text/plain": [
       "         予測 = 失敗  予測 = 成功\n",
       "正解 = 失敗    39169      280\n",
       "正解 = 成功    26541      345"
      ]
     },
     "metadata": {},
     "output_type": "display_data"
    },
    {
     "name": "stdout",
     "output_type": "stream",
     "text": [
      "\n",
      "対数尤度 = -16.328\n",
      "対数尤度 = -16.293\n",
      "正答率_test = 52.726%\n",
      "正答率_train = 52.829%\n"
     ]
    },
    {
     "data": {
      "text/html": [
       "<div>\n",
       "<style scoped>\n",
       "    .dataframe tbody tr th:only-of-type {\n",
       "        vertical-align: middle;\n",
       "    }\n",
       "\n",
       "    .dataframe tbody tr th {\n",
       "        vertical-align: top;\n",
       "    }\n",
       "\n",
       "    .dataframe thead th {\n",
       "        text-align: right;\n",
       "    }\n",
       "</style>\n",
       "<table border=\"1\" class=\"dataframe\">\n",
       "  <thead>\n",
       "    <tr style=\"text-align: right;\">\n",
       "      <th></th>\n",
       "      <th>予測 = 失敗</th>\n",
       "      <th>予測 = 成功</th>\n",
       "    </tr>\n",
       "  </thead>\n",
       "  <tbody>\n",
       "    <tr>\n",
       "      <th>正解 = 失敗</th>\n",
       "      <td>12643</td>\n",
       "      <td>26898</td>\n",
       "    </tr>\n",
       "    <tr>\n",
       "      <th>正解 = 成功</th>\n",
       "      <td>4461</td>\n",
       "      <td>22333</td>\n",
       "    </tr>\n",
       "  </tbody>\n",
       "</table>\n",
       "</div>"
      ],
      "text/plain": [
       "         予測 = 失敗  予測 = 成功\n",
       "正解 = 失敗    12643    26898\n",
       "正解 = 成功     4461    22333"
      ]
     },
     "metadata": {},
     "output_type": "display_data"
    },
    {
     "name": "stdout",
     "output_type": "stream",
     "text": [
      "\n",
      "対数尤度 = -15.241\n",
      "対数尤度 = -15.339\n",
      "正答率_test = 55.872%\n",
      "正答率_train = 55.590%\n"
     ]
    },
    {
     "data": {
      "text/html": [
       "<div>\n",
       "<style scoped>\n",
       "    .dataframe tbody tr th:only-of-type {\n",
       "        vertical-align: middle;\n",
       "    }\n",
       "\n",
       "    .dataframe tbody tr th {\n",
       "        vertical-align: top;\n",
       "    }\n",
       "\n",
       "    .dataframe thead th {\n",
       "        text-align: right;\n",
       "    }\n",
       "</style>\n",
       "<table border=\"1\" class=\"dataframe\">\n",
       "  <thead>\n",
       "    <tr style=\"text-align: right;\">\n",
       "      <th></th>\n",
       "      <th>予測 = 失敗</th>\n",
       "      <th>予測 = 成功</th>\n",
       "    </tr>\n",
       "  </thead>\n",
       "  <tbody>\n",
       "    <tr>\n",
       "      <th>正解 = 失敗</th>\n",
       "      <td>17115</td>\n",
       "      <td>22427</td>\n",
       "    </tr>\n",
       "    <tr>\n",
       "      <th>正解 = 成功</th>\n",
       "      <td>6845</td>\n",
       "      <td>19948</td>\n",
       "    </tr>\n",
       "  </tbody>\n",
       "</table>\n",
       "</div>"
      ],
      "text/plain": [
       "         予測 = 失敗  予測 = 成功\n",
       "正解 = 失敗    17115    22427\n",
       "正解 = 成功     6845    19948"
      ]
     },
     "metadata": {},
     "output_type": "display_data"
    },
    {
     "name": "stdout",
     "output_type": "stream",
     "text": [
      "\n"
     ]
    }
   ],
   "source": [
    "#交差検証法 関数cross_val_scoreでも同じ（標準化なし）\n",
    "n_split = 5 # グループ数を設定（今回は5分割）\n",
    "\n",
    "cross_valid_mae = 0\n",
    "split_num = 1\n",
    "\n",
    "# テスト役を交代させながら学習と評価を繰り返す\n",
    "for train_idx, test_idx in KFold(n_splits=n_split, shuffle=True, random_state=1234).split(X, y):\n",
    "    X_train, y_train = X[train_idx], y[train_idx] #学習用データ\n",
    "    X_test, y_test = X[test_idx], y[test_idx]     #テスト用データ\n",
    "    \n",
    "    # 学習用データを使って線形回帰モデルを学習\n",
    "    clf = SGDClassifier(loss='log', penalty='none', max_iter=10000, fit_intercept=True, random_state=1234, tol=1e-3)\n",
    "    clf.fit(X_train, y_train)\n",
    "\n",
    "    # 予測を実行\n",
    "    y_est = clf.predict(X_test)\n",
    "    y_est_t = clf.predict(X_train)\n",
    "\n",
    "    # 対数尤度を表示\n",
    "    print('対数尤度 = {:.3f}'.format(- log_loss(y_test, y_est)))\n",
    "    print('対数尤度 = {:.3f}'.format(- log_loss(y_train, y_est_t)))\n",
    "\n",
    "    # 正答率を表示\n",
    "    print('正答率_test = {:.3f}%'.format(100 * accuracy_score(y_test, y_est)))\n",
    "    print('正答率_train = {:.3f}%'.format(100 * accuracy_score(y_train, y_est_t)))\n",
    "    \n",
    "    # 予測値と正解のクロス集計\n",
    "    conf_mat = pd.DataFrame(confusion_matrix(y_test, y_est), \n",
    "                        index=['正解 = 失敗', '正解 = 成功'], \n",
    "                        columns=['予測 = 失敗', '予測 = 成功'])\n",
    "    display(conf_mat)\n",
    "    print()\n"
   ]
  },
  {
   "cell_type": "code",
   "execution_count": 50,
   "metadata": {},
   "outputs": [
    {
     "data": {
      "text/plain": [
       "(array([6.6308e+04, 6.0000e+00, 4.0000e+00, 2.0000e+00, 3.0000e+00,\n",
       "        0.0000e+00, 0.0000e+00, 1.0000e+00, 0.0000e+00, 1.1000e+01]),\n",
       " array([-3.80310197e-02,  7.00703421e+00,  1.40520994e+01,  2.10971647e+01,\n",
       "         2.81422299e+01,  3.51872951e+01,  4.22323604e+01,  4.92774256e+01,\n",
       "         5.63224908e+01,  6.33675560e+01,  7.04126213e+01]),\n",
       " <a list of 10 Patch objects>)"
      ]
     },
     "execution_count": 50,
     "metadata": {},
     "output_type": "execute_result"
    },
    {
     "data": {
      "image/png": "[encoded data removed]",
      "text/plain": [
       "<Figure size 432x288 with 1 Axes>"
      ]
     },
     "metadata": {
      "needs_background": "light"
     },
     "output_type": "display_data"
    }
   ],
   "source": [
    "#標準化を実施\n",
    "stdsc = StandardScaler()\n",
    "X_train = stdsc.fit_transform(X_train)\n",
    "plt.hist(X_train[:, 0], log=True) \n",
    "stdsc = StandardScaler()\n",
    "X_test = stdsc.fit_transform(X_test)\n",
    "plt.hist(X_test[:, 0], log=True) "
   ]
  },
  {
   "cell_type": "code",
   "execution_count": 22,
   "metadata": {},
   "outputs": [
    {
     "name": "stdout",
     "output_type": "stream",
     "text": [
      "w0 = -0.940, w1 = -20.811, w2 = -0.248, w3 = 0.031, w4 = 0.139, w5 = -0.097, w6 = 0.098, w7 = 0.070,w8 = -0.134, w9 = 0.057, w10 = -0.118, w11 = 0.083, w12 = -0.160,w13 = 0.112, w14 = -0.084, w15 = -0.096\n"
     ]
    }
   ],
   "source": [
    "#ロジスティック回帰を実装（標準化適用）\n",
    "clf = SGDClassifier(loss='log', penalty='none', max_iter=10000, fit_intercept=True, random_state=1234, tol=1e-3)\n",
    "clf.fit(X_train, y_train)\n",
    "\n",
    "# 重みを取得して表示\n",
    "w0 = clf.intercept_[0]\n",
    "w1 = clf.coef_[0, 0]\n",
    "w2 = clf.coef_[0, 1]\n",
    "w3 = clf.coef_[0, 2]\n",
    "w4 = clf.coef_[0, 3]\n",
    "w5 = clf.coef_[0, 4]\n",
    "w6 = clf.coef_[0, 5]\n",
    "w7 = clf.coef_[0, 6]\n",
    "w8 = clf.coef_[0, 7]\n",
    "w9 = clf.coef_[0, 8]\n",
    "w10 = clf.coef_[0, 9]\n",
    "w11 = clf.coef_[0, 10]\n",
    "w12 = clf.coef_[0, 11]\n",
    "w13 = clf.coef_[0, 12]\n",
    "w14 = clf.coef_[0, 13]\n",
    "w15 = clf.coef_[0, 14]\n",
    "print('w0 = {:.3f}, w1 = {:.3f}, w2 = {:.3f}, w3 = {:.3f}, w4 = {:.3f}, w5 = {:.3f}, w6 = {:.3f}, w7 = {:.3f},w8 = {:.3f}, w9 = {:.3f}, w10 = {:.3f}, w11 = {:.3f}, w12 = {:.3f},w13 = {:.3f}, w14 = {:.3f}, w15 = {:.3f}'.format(w0, w1, w2, w3, w4, w5, w6, w7, w8, w9, w10, w11, w12, w13, w14, w15))"
   ]
  },
  {
   "cell_type": "code",
   "execution_count": 23,
   "metadata": {},
   "outputs": [
    {
     "name": "stdout",
     "output_type": "stream",
     "text": [
      "対数尤度 = -12.311\n",
      "正答率 = 64.356%\n"
     ]
    }
   ],
   "source": [
    "# ラベルを予測\n",
    "y_est = clf.predict(X_train)\n",
    "\n",
    "# 対数尤度を表示\n",
    "print('対数尤度 = {:.3f}'.format(- log_loss(y_train, y_est)))\n",
    "\n",
    "# 正答率を表示\n",
    "print('正答率 = {:.3f}%'.format(100 * accuracy_score(y_train, y_est)))"
   ]
  },
  {
   "cell_type": "code",
   "execution_count": 24,
   "metadata": {},
   "outputs": [
    {
     "name": "stdout",
     "output_type": "stream",
     "text": [
      "対数尤度 = -12.322\n",
      "正答率 = 64.325%\n"
     ]
    }
   ],
   "source": [
    "# ラベルを予測\n",
    "y_est2 = clf.predict(X_test)\n",
    "\n",
    "# 対数尤度を表示\n",
    "print('対数尤度 = {:.3f}'.format(- log_loss(y_test, y_est2)))\n",
    "\n",
    "# 正答率を表示\n",
    "print('正答率 = {:.3f}%'.format(100 * accuracy_score(y_test, y_est2)))"
   ]
  },
  {
   "cell_type": "code",
   "execution_count": 25,
   "metadata": {},
   "outputs": [
    {
     "name": "stdout",
     "output_type": "stream",
     "text": [
      "対数尤度 = -13.678\n",
      "対数尤度 = -13.800\n",
      "正答率_test = 60.399%\n",
      "正答率_train = 60.044%\n"
     ]
    },
    {
     "data": {
      "text/html": [
       "<div>\n",
       "<style scoped>\n",
       "    .dataframe tbody tr th:only-of-type {\n",
       "        vertical-align: middle;\n",
       "    }\n",
       "\n",
       "    .dataframe tbody tr th {\n",
       "        vertical-align: top;\n",
       "    }\n",
       "\n",
       "    .dataframe thead th {\n",
       "        text-align: right;\n",
       "    }\n",
       "</style>\n",
       "<table border=\"1\" class=\"dataframe\">\n",
       "  <thead>\n",
       "    <tr style=\"text-align: right;\">\n",
       "      <th></th>\n",
       "      <th>予測 = 失敗</th>\n",
       "      <th>予測 = 成功</th>\n",
       "    </tr>\n",
       "  </thead>\n",
       "  <tbody>\n",
       "    <tr>\n",
       "      <th>正解 = 失敗</th>\n",
       "      <td>38073</td>\n",
       "      <td>1655</td>\n",
       "    </tr>\n",
       "    <tr>\n",
       "      <th>正解 = 成功</th>\n",
       "      <td>24614</td>\n",
       "      <td>1993</td>\n",
       "    </tr>\n",
       "  </tbody>\n",
       "</table>\n",
       "</div>"
      ],
      "text/plain": [
       "         予測 = 失敗  予測 = 成功\n",
       "正解 = 失敗    38073     1655\n",
       "正解 = 成功    24614     1993"
      ]
     },
     "metadata": {},
     "output_type": "display_data"
    },
    {
     "name": "stdout",
     "output_type": "stream",
     "text": [
      "\n",
      "対数尤度 = -16.794\n",
      "対数尤度 = -16.818\n",
      "正答率_test = 51.379%\n",
      "正答率_train = 51.309%\n"
     ]
    },
    {
     "data": {
      "text/html": [
       "<div>\n",
       "<style scoped>\n",
       "    .dataframe tbody tr th:only-of-type {\n",
       "        vertical-align: middle;\n",
       "    }\n",
       "\n",
       "    .dataframe tbody tr th {\n",
       "        vertical-align: top;\n",
       "    }\n",
       "\n",
       "    .dataframe thead th {\n",
       "        text-align: right;\n",
       "    }\n",
       "</style>\n",
       "<table border=\"1\" class=\"dataframe\">\n",
       "  <thead>\n",
       "    <tr style=\"text-align: right;\">\n",
       "      <th></th>\n",
       "      <th>予測 = 失敗</th>\n",
       "      <th>予測 = 成功</th>\n",
       "    </tr>\n",
       "  </thead>\n",
       "  <tbody>\n",
       "    <tr>\n",
       "      <th>正解 = 失敗</th>\n",
       "      <td>10472</td>\n",
       "      <td>28987</td>\n",
       "    </tr>\n",
       "    <tr>\n",
       "      <th>正解 = 成功</th>\n",
       "      <td>3266</td>\n",
       "      <td>23610</td>\n",
       "    </tr>\n",
       "  </tbody>\n",
       "</table>\n",
       "</div>"
      ],
      "text/plain": [
       "         予測 = 失敗  予測 = 成功\n",
       "正解 = 失敗    10472    28987\n",
       "正解 = 成功     3266    23610"
      ]
     },
     "metadata": {},
     "output_type": "display_data"
    },
    {
     "name": "stdout",
     "output_type": "stream",
     "text": [
      "\n",
      "対数尤度 = -13.965\n",
      "対数尤度 = -13.873\n",
      "正答率_test = 59.567%\n",
      "正答率_train = 59.833%\n"
     ]
    },
    {
     "data": {
      "text/html": [
       "<div>\n",
       "<style scoped>\n",
       "    .dataframe tbody tr th:only-of-type {\n",
       "        vertical-align: middle;\n",
       "    }\n",
       "\n",
       "    .dataframe tbody tr th {\n",
       "        vertical-align: top;\n",
       "    }\n",
       "\n",
       "    .dataframe thead th {\n",
       "        text-align: right;\n",
       "    }\n",
       "</style>\n",
       "<table border=\"1\" class=\"dataframe\">\n",
       "  <thead>\n",
       "    <tr style=\"text-align: right;\">\n",
       "      <th></th>\n",
       "      <th>予測 = 失敗</th>\n",
       "      <th>予測 = 成功</th>\n",
       "    </tr>\n",
       "  </thead>\n",
       "  <tbody>\n",
       "    <tr>\n",
       "      <th>正解 = 失敗</th>\n",
       "      <td>39169</td>\n",
       "      <td>280</td>\n",
       "    </tr>\n",
       "    <tr>\n",
       "      <th>正解 = 成功</th>\n",
       "      <td>26541</td>\n",
       "      <td>345</td>\n",
       "    </tr>\n",
       "  </tbody>\n",
       "</table>\n",
       "</div>"
      ],
      "text/plain": [
       "         予測 = 失敗  予測 = 成功\n",
       "正解 = 失敗    39169      280\n",
       "正解 = 成功    26541      345"
      ]
     },
     "metadata": {},
     "output_type": "display_data"
    },
    {
     "name": "stdout",
     "output_type": "stream",
     "text": [
      "\n",
      "対数尤度 = -16.328\n",
      "対数尤度 = -16.293\n",
      "正答率_test = 52.726%\n",
      "正答率_train = 52.829%\n"
     ]
    },
    {
     "data": {
      "text/html": [
       "<div>\n",
       "<style scoped>\n",
       "    .dataframe tbody tr th:only-of-type {\n",
       "        vertical-align: middle;\n",
       "    }\n",
       "\n",
       "    .dataframe tbody tr th {\n",
       "        vertical-align: top;\n",
       "    }\n",
       "\n",
       "    .dataframe thead th {\n",
       "        text-align: right;\n",
       "    }\n",
       "</style>\n",
       "<table border=\"1\" class=\"dataframe\">\n",
       "  <thead>\n",
       "    <tr style=\"text-align: right;\">\n",
       "      <th></th>\n",
       "      <th>予測 = 失敗</th>\n",
       "      <th>予測 = 成功</th>\n",
       "    </tr>\n",
       "  </thead>\n",
       "  <tbody>\n",
       "    <tr>\n",
       "      <th>正解 = 失敗</th>\n",
       "      <td>12643</td>\n",
       "      <td>26898</td>\n",
       "    </tr>\n",
       "    <tr>\n",
       "      <th>正解 = 成功</th>\n",
       "      <td>4461</td>\n",
       "      <td>22333</td>\n",
       "    </tr>\n",
       "  </tbody>\n",
       "</table>\n",
       "</div>"
      ],
      "text/plain": [
       "         予測 = 失敗  予測 = 成功\n",
       "正解 = 失敗    12643    26898\n",
       "正解 = 成功     4461    22333"
      ]
     },
     "metadata": {},
     "output_type": "display_data"
    },
    {
     "name": "stdout",
     "output_type": "stream",
     "text": [
      "\n",
      "対数尤度 = -15.241\n",
      "対数尤度 = -15.339\n",
      "正答率_test = 55.872%\n",
      "正答率_train = 55.590%\n"
     ]
    },
    {
     "data": {
      "text/html": [
       "<div>\n",
       "<style scoped>\n",
       "    .dataframe tbody tr th:only-of-type {\n",
       "        vertical-align: middle;\n",
       "    }\n",
       "\n",
       "    .dataframe tbody tr th {\n",
       "        vertical-align: top;\n",
       "    }\n",
       "\n",
       "    .dataframe thead th {\n",
       "        text-align: right;\n",
       "    }\n",
       "</style>\n",
       "<table border=\"1\" class=\"dataframe\">\n",
       "  <thead>\n",
       "    <tr style=\"text-align: right;\">\n",
       "      <th></th>\n",
       "      <th>予測 = 失敗</th>\n",
       "      <th>予測 = 成功</th>\n",
       "    </tr>\n",
       "  </thead>\n",
       "  <tbody>\n",
       "    <tr>\n",
       "      <th>正解 = 失敗</th>\n",
       "      <td>17115</td>\n",
       "      <td>22427</td>\n",
       "    </tr>\n",
       "    <tr>\n",
       "      <th>正解 = 成功</th>\n",
       "      <td>6845</td>\n",
       "      <td>19948</td>\n",
       "    </tr>\n",
       "  </tbody>\n",
       "</table>\n",
       "</div>"
      ],
      "text/plain": [
       "         予測 = 失敗  予測 = 成功\n",
       "正解 = 失敗    17115    22427\n",
       "正解 = 成功     6845    19948"
      ]
     },
     "metadata": {},
     "output_type": "display_data"
    },
    {
     "name": "stdout",
     "output_type": "stream",
     "text": [
      "\n"
     ]
    }
   ],
   "source": [
    "#交差検証法 （標準化を適用）\n",
    "n_split = 5 # グループ数を設定（今回は5分割）\n",
    "\n",
    "cross_valid_mae = 0\n",
    "split_num = 1\n",
    "\n",
    "# テスト役を交代させながら学習と評価を繰り返す\n",
    "for train_idx, test_idx in KFold(n_splits=n_split, shuffle=True, random_state=1234).split(X, y):\n",
    "    X_train, y_train = X[train_idx], y[train_idx] #学習用データ\n",
    "    X_test, y_test = X[test_idx], y[test_idx]     #テスト用データ\n",
    "    \n",
    "    # 学習用データを使って線形回帰モデルを学習\n",
    "    clf = SGDClassifier(loss='log', penalty='none', max_iter=10000, fit_intercept=True, random_state=1234, tol=1e-3)\n",
    "    clf.fit(X_train, y_train)\n",
    "\n",
    "    # 予測を実行\n",
    "    y_est = clf.predict(X_test)\n",
    "    y_est_t = clf.predict(X_train)\n",
    "\n",
    "    # 対数尤度を表示\n",
    "    print('対数尤度 = {:.3f}'.format(- log_loss(y_test, y_est)))\n",
    "    print('対数尤度 = {:.3f}'.format(- log_loss(y_train, y_est_t)))\n",
    "\n",
    "    # 正答率を表示\n",
    "    print('正答率_test = {:.3f}%'.format(100 * accuracy_score(y_test, y_est)))\n",
    "    print('正答率_train = {:.3f}%'.format(100 * accuracy_score(y_train, y_est_t)))\n",
    "    \n",
    "    # 予測値と正解のクロス集計\n",
    "    conf_mat = pd.DataFrame(confusion_matrix(y_test, y_est), \n",
    "                        index=['正解 = 失敗', '正解 = 成功'], \n",
    "                        columns=['予測 = 失敗', '予測 = 成功'])\n",
    "    display(conf_mat)\n",
    "    print()"
   ]
  },
  {
   "cell_type": "code",
   "execution_count": null,
   "metadata": {},
   "outputs": [],
   "source": [
    "#SVM　処理が終わらず断念\n",
    "#parameters = {'kernel':['linear', 'rbf'], 'C':[1, 1]} # ここを編集する\n",
    "#model = SVC()\n",
    "#clf = GridSearchCV(model, parameters, cv=3,)\n",
    "#clf.fit(X_train, y_train)\n",
    "#print(clf.best_params_, clf.best_score_)"
   ]
  },
  {
   "cell_type": "code",
   "execution_count": 16,
   "metadata": {},
   "outputs": [
    {
     "name": "stdout",
     "output_type": "stream",
     "text": [
      "score= 0.7239089470113816\n",
      "[ True  True  True ... False False False]\n"
     ]
    }
   ],
   "source": [
    "#決定木を用いた評価\n",
    "clf = DecisionTreeClassifier(criterion=\"gini\", max_depth=None, min_samples_split=3, min_samples_leaf=3, random_state=1234)\n",
    "clf = clf.fit(X_train, y_train)\n",
    "print(\"score=\", clf.score(X_train, y_train))\n",
    "print(clf.predict(X_test)) #予測したい場合"
   ]
  },
  {
   "cell_type": "code",
   "execution_count": 17,
   "metadata": {},
   "outputs": [
    {
     "name": "stdout",
     "output_type": "stream",
     "text": [
      "[4.60765853e-01 2.52983568e-01 1.08347782e-02 1.74079945e-02\n",
      " 8.36789264e-03 9.18714243e-03 1.34331976e-02 1.56201970e-02\n",
      " 1.76004144e-02 1.04648914e-02 1.35418393e-02 5.04897495e-03\n",
      " 2.55676976e-02 6.28613257e-03 1.19057560e-02 1.35976926e-02\n",
      " 2.28174460e-02 6.56832393e-03 1.08578398e-02 6.55968826e-04\n",
      " 1.85029423e-03 1.16516477e-02 1.65181599e-02 1.57291876e-03\n",
      " 5.74292523e-05 1.46052213e-03 7.17453028e-04 1.01520656e-03\n",
      " 2.50916873e-03 4.90293661e-04 2.86433056e-02]\n"
     ]
    },
    {
     "data": {
      "image/png": "[encoded data removed]",
      "text/plain": [
       "<Figure size 504x144 with 1 Axes>"
      ]
     },
     "metadata": {
      "needs_background": "light"
     },
     "output_type": "display_data"
    }
   ],
   "source": [
    "# 説明変数の重要度を出力する\n",
    "# scikit-learnで算出される重要度は、ある説明変数による不純度の減少量合計である。\n",
    "print(clf.feature_importances_)\n",
    "pd.DataFrame(clf.feature_importances_, df_project_test.columns[1:]).plot.bar(figsize=(7,2))\n",
    "plt.ylabel(\"Importance\")\n",
    "plt.xlabel(\"Features\")\n",
    "plt.show()"
   ]
  },
  {
   "cell_type": "code",
   "execution_count": 18,
   "metadata": {},
   "outputs": [
    {
     "ename": "NameError",
     "evalue": "name 'StringIO' is not defined",
     "output_type": "error",
     "traceback": [
      "\u001b[1;31m---------------------------------------------------------------------------\u001b[0m",
      "\u001b[1;31mNameError\u001b[0m                                 Traceback (most recent call last)",
      "\u001b[1;32m<ipython-input-18-ce2a5217447b>\u001b[0m in \u001b[0;36m<module>\u001b[1;34m\u001b[0m\n\u001b[0;32m      1\u001b[0m \u001b[1;31m# 決定木の描画\u001b[0m\u001b[1;33m\u001b[0m\u001b[1;33m\u001b[0m\u001b[1;33m\u001b[0m\u001b[0m\n\u001b[1;32m----> 2\u001b[1;33m \u001b[0mdot_data\u001b[0m \u001b[1;33m=\u001b[0m \u001b[0mStringIO\u001b[0m\u001b[1;33m(\u001b[0m\u001b[1;33m)\u001b[0m \u001b[1;31m#dotファイル情報の格納先\u001b[0m\u001b[1;33m\u001b[0m\u001b[1;33m\u001b[0m\u001b[0m\n\u001b[0m\u001b[0;32m      3\u001b[0m export_graphviz(clf, out_file=dot_data,  \n\u001b[0;32m      4\u001b[0m                      \u001b[0mfeature_names\u001b[0m\u001b[1;33m=\u001b[0m\u001b[0mdf_project_test\u001b[0m\u001b[1;33m.\u001b[0m\u001b[0mcolumns\u001b[0m\u001b[1;33m[\u001b[0m\u001b[1;36m1\u001b[0m\u001b[1;33m:\u001b[0m\u001b[1;33m]\u001b[0m\u001b[1;33m,\u001b[0m\u001b[1;33m\u001b[0m\u001b[1;33m\u001b[0m\u001b[0m\n\u001b[0;32m      5\u001b[0m                      \u001b[0mclass_names\u001b[0m\u001b[1;33m=\u001b[0m\u001b[1;33m[\u001b[0m\u001b[1;34m\"True\"\u001b[0m\u001b[1;33m,\u001b[0m\u001b[1;34m\"False\"\u001b[0m\u001b[1;33m]\u001b[0m\u001b[1;33m,\u001b[0m\u001b[1;33m\u001b[0m\u001b[1;33m\u001b[0m\u001b[0m\n",
      "\u001b[1;31mNameError\u001b[0m: name 'StringIO' is not defined"
     ]
    }
   ],
   "source": [
    "# 時間の都合で一時保留としています\n",
    "# 決定木の描画\n",
    "#dot_data = StringIO() #dotファイル情報の格納先\n",
    "#export_graphviz(clf, out_file=dot_data,  \n",
    "#                     feature_names=df_project_test.columns[1:],  \n",
    "#                     class_names=[\"True\",\"False\"],  \n",
    "#                     filled=True, rounded=True,  \n",
    "#                     special_characters=True) \n",
    "#graph = pydotplus.graph_from_dot_data(dot_data.getvalue()) \n",
    "#Image(graph.create_png())"
   ]
  },
  {
   "cell_type": "code",
   "execution_count": 35,
   "metadata": {},
   "outputs": [
    {
     "name": "stdout",
     "output_type": "stream",
     "text": [
      "score= 0.7219190472601191\n",
      "[5.11172147e-01 2.84099068e-01 3.73708767e-03 1.52529381e-02\n",
      " 8.98901864e-03 1.00220870e-02 5.92246458e-03 1.32342819e-02\n",
      " 6.97090612e-03 1.19902218e-02 6.56566162e-03 4.88561546e-03\n",
      " 2.80009458e-02 4.11301468e-03 9.33821760e-03 2.11635310e-02\n",
      " 2.17539330e-02 2.62646382e-03 3.26498741e-03 7.49836127e-04\n",
      " 1.30586504e-03 6.85433649e-03 4.16031507e-03 1.24175778e-03\n",
      " 8.48819765e-05 1.37547620e-03 6.14981026e-04 1.16394842e-03\n",
      " 1.62308175e-03 6.63928706e-04 7.05900009e-03]\n"
     ]
    },
    {
     "data": {
      "image/png": "[encoded data removed]",
      "text/plain": [
       "<Figure size 504x144 with 1 Axes>"
      ]
     },
     "metadata": {
      "needs_background": "light"
     },
     "output_type": "display_data"
    }
   ],
   "source": [
    "#ランダムフォレストを用いた評価 scoreはmax_depth=30付近で頭打ち\n",
    "clf = RandomForestClassifier(n_estimators=10, max_depth=30, criterion=\"gini\",\n",
    "                                                 min_samples_leaf=2, min_samples_split=2, random_state=1234)\n",
    "clf.fit(X_train, y_train)\n",
    "print(\"score=\", clf.score(X_train, y_train))\n",
    "\n",
    "# 説明変数の重要度を出力する\n",
    "# scikit-learnで算出される重要度は、ある説明変数による不純度の減少量合計である。\n",
    "print(clf.feature_importances_)\n",
    "pd.DataFrame(clf.feature_importances_, df_project_test.columns[1:]).plot.bar(figsize=(7,2))\n",
    "plt.ylabel(\"Importance\")\n",
    "plt.xlabel(\"Features\")\n",
    "plt.show()"
   ]
  },
  {
   "cell_type": "code",
   "execution_count": 45,
   "metadata": {},
   "outputs": [],
   "source": [
    "# NNを用いた評価 エラーの内容については時間切れです\n",
    "\n",
    "model = Sequential()\n",
    "model.add(Dense(6, activation='relu', input_dim=4))\n",
    "model.add(Dense(5, activation='relu', input_dim=6))\n",
    "model.add(Dense(3, activation='softmax'))#最終層のactivationは変更しないこと\n",
    "\n",
    "# ------ 最適化手法 ------\n",
    "sgd = SGD(lr=0.01, momentum=0.9, nesterov=False)\n",
    "# rms = RMSprop(lr=0.01)\n",
    "# adag = Adagrad(lr=0.01)\n",
    "# adad = Adadelta(lr=0.01)\n",
    "# adam = Adam(lr=0.01)\n",
    "# -----------------------------\n",
    "\n",
    "model.compile(loss='categorical_crossentropy',\n",
    "              optimizer=sgd,\n",
    "              metrics=['accuracy'])\n",
    "\n",
    "# WARNINGが出るが気にしなくて良い"
   ]
  },
  {
   "cell_type": "code",
   "execution_count": 46,
   "metadata": {},
   "outputs": [
    {
     "ename": "ValueError",
     "evalue": "Error when checking input: expected dense_12_input to have shape (4,) but got array with shape (31,)",
     "output_type": "error",
     "traceback": [
      "\u001b[1;31m---------------------------------------------------------------------------\u001b[0m",
      "\u001b[1;31mValueError\u001b[0m                                Traceback (most recent call last)",
      "\u001b[1;32m<ipython-input-46-6272f8cc6670>\u001b[0m in \u001b[0;36m<module>\u001b[1;34m\u001b[0m\n\u001b[0;32m      2\u001b[0m fit = model.fit(X_train, y_train,\n\u001b[0;32m      3\u001b[0m           \u001b[0mepochs\u001b[0m\u001b[1;33m=\u001b[0m\u001b[1;36m50\u001b[0m\u001b[1;33m,\u001b[0m\u001b[1;33m\u001b[0m\u001b[1;33m\u001b[0m\u001b[0m\n\u001b[1;32m----> 4\u001b[1;33m           batch_size=10,validation_data=(X_test, y_test))\n\u001b[0m\u001b[0;32m      5\u001b[0m \u001b[1;33m\u001b[0m\u001b[0m\n\u001b[0;32m      6\u001b[0m \u001b[1;31m# 各epochにおける損失と精度をdfに入れる\u001b[0m\u001b[1;33m\u001b[0m\u001b[1;33m\u001b[0m\u001b[1;33m\u001b[0m\u001b[0m\n",
      "\u001b[1;32m~\\Anaconda3\\lib\\site-packages\\tensorflow\\python\\keras\\engine\\training.py\u001b[0m in \u001b[0;36mfit\u001b[1;34m(self, x, y, batch_size, epochs, verbose, callbacks, validation_split, validation_data, shuffle, class_weight, sample_weight, initial_epoch, steps_per_epoch, validation_steps, validation_freq, max_queue_size, workers, use_multiprocessing, **kwargs)\u001b[0m\n\u001b[0;32m    707\u001b[0m         \u001b[0msteps\u001b[0m\u001b[1;33m=\u001b[0m\u001b[0msteps_per_epoch\u001b[0m\u001b[1;33m,\u001b[0m\u001b[1;33m\u001b[0m\u001b[1;33m\u001b[0m\u001b[0m\n\u001b[0;32m    708\u001b[0m         \u001b[0mvalidation_split\u001b[0m\u001b[1;33m=\u001b[0m\u001b[0mvalidation_split\u001b[0m\u001b[1;33m,\u001b[0m\u001b[1;33m\u001b[0m\u001b[1;33m\u001b[0m\u001b[0m\n\u001b[1;32m--> 709\u001b[1;33m         shuffle=shuffle)\n\u001b[0m\u001b[0;32m    710\u001b[0m \u001b[1;33m\u001b[0m\u001b[0m\n\u001b[0;32m    711\u001b[0m     \u001b[1;31m# Prepare validation data.\u001b[0m\u001b[1;33m\u001b[0m\u001b[1;33m\u001b[0m\u001b[1;33m\u001b[0m\u001b[0m\n",
      "\u001b[1;32m~\\Anaconda3\\lib\\site-packages\\tensorflow\\python\\keras\\engine\\training.py\u001b[0m in \u001b[0;36m_standardize_user_data\u001b[1;34m(self, x, y, sample_weight, class_weight, batch_size, check_steps, steps_name, steps, validation_split, shuffle, extract_tensors_from_dataset)\u001b[0m\n\u001b[0;32m   2649\u001b[0m           \u001b[0mfeed_input_shapes\u001b[0m\u001b[1;33m,\u001b[0m\u001b[1;33m\u001b[0m\u001b[1;33m\u001b[0m\u001b[0m\n\u001b[0;32m   2650\u001b[0m           \u001b[0mcheck_batch_axis\u001b[0m\u001b[1;33m=\u001b[0m\u001b[1;32mFalse\u001b[0m\u001b[1;33m,\u001b[0m  \u001b[1;31m# Don't enforce the batch size.\u001b[0m\u001b[1;33m\u001b[0m\u001b[1;33m\u001b[0m\u001b[0m\n\u001b[1;32m-> 2651\u001b[1;33m           exception_prefix='input')\n\u001b[0m\u001b[0;32m   2652\u001b[0m \u001b[1;33m\u001b[0m\u001b[0m\n\u001b[0;32m   2653\u001b[0m     \u001b[1;32mif\u001b[0m \u001b[0my\u001b[0m \u001b[1;32mis\u001b[0m \u001b[1;32mnot\u001b[0m \u001b[1;32mNone\u001b[0m\u001b[1;33m:\u001b[0m\u001b[1;33m\u001b[0m\u001b[1;33m\u001b[0m\u001b[0m\n",
      "\u001b[1;32m~\\Anaconda3\\lib\\site-packages\\tensorflow\\python\\keras\\engine\\training_utils.py\u001b[0m in \u001b[0;36mstandardize_input_data\u001b[1;34m(data, names, shapes, check_batch_axis, exception_prefix)\u001b[0m\n\u001b[0;32m    383\u001b[0m                              \u001b[1;34m': expected '\u001b[0m \u001b[1;33m+\u001b[0m \u001b[0mnames\u001b[0m\u001b[1;33m[\u001b[0m\u001b[0mi\u001b[0m\u001b[1;33m]\u001b[0m \u001b[1;33m+\u001b[0m \u001b[1;34m' to have shape '\u001b[0m \u001b[1;33m+\u001b[0m\u001b[1;33m\u001b[0m\u001b[1;33m\u001b[0m\u001b[0m\n\u001b[0;32m    384\u001b[0m                              \u001b[0mstr\u001b[0m\u001b[1;33m(\u001b[0m\u001b[0mshape\u001b[0m\u001b[1;33m)\u001b[0m \u001b[1;33m+\u001b[0m \u001b[1;34m' but got array with shape '\u001b[0m \u001b[1;33m+\u001b[0m\u001b[1;33m\u001b[0m\u001b[1;33m\u001b[0m\u001b[0m\n\u001b[1;32m--> 385\u001b[1;33m                              str(data_shape))\n\u001b[0m\u001b[0;32m    386\u001b[0m   \u001b[1;32mreturn\u001b[0m \u001b[0mdata\u001b[0m\u001b[1;33m\u001b[0m\u001b[1;33m\u001b[0m\u001b[0m\n\u001b[0;32m    387\u001b[0m \u001b[1;33m\u001b[0m\u001b[0m\n",
      "\u001b[1;31mValueError\u001b[0m: Error when checking input: expected dense_12_input to have shape (4,) but got array with shape (31,)"
     ]
    }
   ],
   "source": [
    "# 計算の実行\n",
    "fit = model.fit(X_train, y_train,\n",
    "          epochs=50,\n",
    "          batch_size=20,validation_data=(X_test, y_test))\n",
    "\n",
    "# 各epochにおける損失と精度をdfに入れる\n",
    "df = pd.DataFrame(fit.history)\n",
    "\n",
    "# グラフ化\n",
    "df[[\"loss\", \"val_loss\"]].plot()\n",
    "plt.ylabel(\"loss\")\n",
    "plt.xlabel(\"epoch\")\n",
    "plt.show()\n",
    "\n",
    "df[[\"acc\", \"val_acc\"]].plot()\n",
    "plt.ylabel(\"acc\")\n",
    "plt.xlabel(\"epoch\")\n",
    "plt.ylim([0,1.0])\n",
    "plt.show()"
   ]
  },
  {
   "cell_type": "code",
   "execution_count": null,
   "metadata": {},
   "outputs": [],
   "source": []
  },
  {
   "cell_type": "code",
   "execution_count": null,
   "metadata": {},
   "outputs": [],
   "source": []
  },
  {
   "cell_type": "code",
   "execution_count": null,
   "metadata": {},
   "outputs": [],
   "source": []
  },
  {
   "cell_type": "code",
   "execution_count": null,
   "metadata": {},
   "outputs": [],
   "source": []
  },
  {
   "cell_type": "code",
   "execution_count": null,
   "metadata": {},
   "outputs": [],
   "source": []
  },
  {
   "cell_type": "code",
   "execution_count": null,
   "metadata": {},
   "outputs": [],
   "source": []
  },
  {
   "cell_type": "code",
   "execution_count": null,
   "metadata": {},
   "outputs": [],
   "source": []
  }
 ],
 "metadata": {
  "anaconda-cloud": {},
  "kernelspec": {
   "display_name": "Python 3",
   "language": "python",
   "name": "python3"
  },
  "language_info": {
   "codemirror_mode": {
    "name": "ipython",
    "version": 3
   },
   "file_extension": ".py",
   "mimetype": "text/x-python",
   "name": "python",
   "nbconvert_exporter": "python",
   "pygments_lexer": "ipython3",
   "version": "3.7.3"
  }
 },
 "nbformat": 4,
 "nbformat_minor": 2
}
