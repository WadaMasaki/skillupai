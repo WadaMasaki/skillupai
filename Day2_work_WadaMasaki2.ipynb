{
 "cells": [
  {
   "cell_type": "markdown",
   "metadata": {},
   "source": [
    "### [Day2]\n",
    "* Day1で頂いたコメントをもとに前処理を中心に修正途中\n",
    "* データの標準化を行った。\n",
    "* ホールドアウト法、交差検証を用いた汎化性能の評価を行った。\n",
    "* ホールドアウト法を用いることでDay1に比べ15 %程度制度が低下した一方で、交差検証ではDay1とほぼ同程度の値が出ており安定していない。精度が高すぎるような気がするため、事前の処理などを見直してみる予定です。"
   ]
  },
  {
   "cell_type": "code",
   "execution_count": 1,
   "metadata": {},
   "outputs": [],
   "source": [
    "#ライブラリのインポート\n",
    "import numpy as np\n",
    "import pandas as pd\n",
    "import scipy as sp\n",
    "import matplotlib.pyplot as plt\n",
    "%matplotlib inline\n",
    "import seaborn as sns\n",
    "import plotly.offline as py\n",
    "import plotly.graph_objs as go\n",
    "import cufflinks as cf\n",
    "from sklearn.linear_model import SGDClassifier\n",
    "from sklearn.metrics import log_loss, accuracy_score, confusion_matrix\n",
    "from sklearn.model_selection import train_test_split # ホールドアウト法に関する関数\n",
    "from sklearn.model_selection import KFold # 交差検証法に関する関数\n",
    "from sklearn.metrics import mean_absolute_error # 回帰問題における性能評価に関する関数\n",
    "from sklearn.linear_model import LinearRegression\n",
    "from sklearn.svm import SVC\n",
    "from sklearn.preprocessing import StandardScaler\n",
    "from sklearn.model_selection import GridSearchCV\n",
    "from common_func import plot_decision_regions"
   ]
  },
  {
   "cell_type": "code",
   "execution_count": 2,
   "metadata": {
    "scrolled": true
   },
   "outputs": [
    {
     "data": {
      "text/html": [
       "<div>\n",
       "<style scoped>\n",
       "    .dataframe tbody tr th:only-of-type {\n",
       "        vertical-align: middle;\n",
       "    }\n",
       "\n",
       "    .dataframe tbody tr th {\n",
       "        vertical-align: top;\n",
       "    }\n",
       "\n",
       "    .dataframe thead th {\n",
       "        text-align: right;\n",
       "    }\n",
       "</style>\n",
       "<table border=\"1\" class=\"dataframe\">\n",
       "  <thead>\n",
       "    <tr style=\"text-align: right;\">\n",
       "      <th></th>\n",
       "      <th>deadline</th>\n",
       "      <th>launched</th>\n",
       "      <th>state</th>\n",
       "      <th>usd_pledged_real</th>\n",
       "      <th>usd_goal_real</th>\n",
       "    </tr>\n",
       "  </thead>\n",
       "  <tbody>\n",
       "    <tr>\n",
       "      <th>0</th>\n",
       "      <td>2015-10-09</td>\n",
       "      <td>2015-08-11 12:12:28</td>\n",
       "      <td>failed</td>\n",
       "      <td>0.00</td>\n",
       "      <td>1533.95</td>\n",
       "    </tr>\n",
       "    <tr>\n",
       "      <th>1</th>\n",
       "      <td>2017-11-01</td>\n",
       "      <td>2017-09-02 04:43:57</td>\n",
       "      <td>failed</td>\n",
       "      <td>2421.00</td>\n",
       "      <td>30000.00</td>\n",
       "    </tr>\n",
       "    <tr>\n",
       "      <th>2</th>\n",
       "      <td>2013-02-26</td>\n",
       "      <td>2013-01-12 00:20:50</td>\n",
       "      <td>failed</td>\n",
       "      <td>220.00</td>\n",
       "      <td>45000.00</td>\n",
       "    </tr>\n",
       "    <tr>\n",
       "      <th>3</th>\n",
       "      <td>2012-04-16</td>\n",
       "      <td>2012-03-17 03:24:11</td>\n",
       "      <td>failed</td>\n",
       "      <td>1.00</td>\n",
       "      <td>5000.00</td>\n",
       "    </tr>\n",
       "    <tr>\n",
       "      <th>4</th>\n",
       "      <td>2015-08-29</td>\n",
       "      <td>2015-07-04 08:35:03</td>\n",
       "      <td>canceled</td>\n",
       "      <td>1283.00</td>\n",
       "      <td>19500.00</td>\n",
       "    </tr>\n",
       "    <tr>\n",
       "      <th>5</th>\n",
       "      <td>2016-04-01</td>\n",
       "      <td>2016-02-26 13:38:27</td>\n",
       "      <td>successful</td>\n",
       "      <td>52375.00</td>\n",
       "      <td>50000.00</td>\n",
       "    </tr>\n",
       "    <tr>\n",
       "      <th>6</th>\n",
       "      <td>2014-12-21</td>\n",
       "      <td>2014-12-01 18:30:44</td>\n",
       "      <td>successful</td>\n",
       "      <td>1205.00</td>\n",
       "      <td>1000.00</td>\n",
       "    </tr>\n",
       "    <tr>\n",
       "      <th>7</th>\n",
       "      <td>2016-03-17</td>\n",
       "      <td>2016-02-01 20:05:12</td>\n",
       "      <td>failed</td>\n",
       "      <td>453.00</td>\n",
       "      <td>25000.00</td>\n",
       "    </tr>\n",
       "    <tr>\n",
       "      <th>8</th>\n",
       "      <td>2014-05-29</td>\n",
       "      <td>2014-04-24 18:14:43</td>\n",
       "      <td>canceled</td>\n",
       "      <td>8233.00</td>\n",
       "      <td>125000.00</td>\n",
       "    </tr>\n",
       "    <tr>\n",
       "      <th>9</th>\n",
       "      <td>2014-08-10</td>\n",
       "      <td>2014-07-11 21:55:48</td>\n",
       "      <td>canceled</td>\n",
       "      <td>6240.57</td>\n",
       "      <td>65000.00</td>\n",
       "    </tr>\n",
       "    <tr>\n",
       "      <th>10</th>\n",
       "      <td>2013-10-09</td>\n",
       "      <td>2013-09-09 18:19:37</td>\n",
       "      <td>failed</td>\n",
       "      <td>0.00</td>\n",
       "      <td>2406.39</td>\n",
       "    </tr>\n",
       "    <tr>\n",
       "      <th>11</th>\n",
       "      <td>2013-04-08</td>\n",
       "      <td>2013-03-09 06:42:58</td>\n",
       "      <td>successful</td>\n",
       "      <td>12700.00</td>\n",
       "      <td>12500.00</td>\n",
       "    </tr>\n",
       "    <tr>\n",
       "      <th>12</th>\n",
       "      <td>2014-10-02</td>\n",
       "      <td>2014-09-02 17:11:50</td>\n",
       "      <td>failed</td>\n",
       "      <td>0.00</td>\n",
       "      <td>5000.00</td>\n",
       "    </tr>\n",
       "    <tr>\n",
       "      <th>13</th>\n",
       "      <td>2016-03-25</td>\n",
       "      <td>2016-02-09 23:01:12</td>\n",
       "      <td>failed</td>\n",
       "      <td>0.00</td>\n",
       "      <td>200000.00</td>\n",
       "    </tr>\n",
       "    <tr>\n",
       "      <th>14</th>\n",
       "      <td>2017-05-03</td>\n",
       "      <td>2017-04-05 19:44:18</td>\n",
       "      <td>successful</td>\n",
       "      <td>121857.33</td>\n",
       "      <td>6469.73</td>\n",
       "    </tr>\n",
       "    <tr>\n",
       "      <th>15</th>\n",
       "      <td>2015-02-28</td>\n",
       "      <td>2015-01-29 02:10:53</td>\n",
       "      <td>failed</td>\n",
       "      <td>664.00</td>\n",
       "      <td>2500.00</td>\n",
       "    </tr>\n",
       "    <tr>\n",
       "      <th>16</th>\n",
       "      <td>2014-11-08</td>\n",
       "      <td>2014-10-09 22:27:52</td>\n",
       "      <td>failed</td>\n",
       "      <td>395.00</td>\n",
       "      <td>1500.00</td>\n",
       "    </tr>\n",
       "    <tr>\n",
       "      <th>17</th>\n",
       "      <td>2015-05-10</td>\n",
       "      <td>2015-04-10 21:20:54</td>\n",
       "      <td>failed</td>\n",
       "      <td>789.00</td>\n",
       "      <td>3000.00</td>\n",
       "    </tr>\n",
       "    <tr>\n",
       "      <th>18</th>\n",
       "      <td>2012-08-17</td>\n",
       "      <td>2012-08-02 14:11:32</td>\n",
       "      <td>successful</td>\n",
       "      <td>250.00</td>\n",
       "      <td>250.00</td>\n",
       "    </tr>\n",
       "    <tr>\n",
       "      <th>19</th>\n",
       "      <td>2012-06-02</td>\n",
       "      <td>2012-05-03 17:24:32</td>\n",
       "      <td>failed</td>\n",
       "      <td>1781.00</td>\n",
       "      <td>5000.00</td>\n",
       "    </tr>\n",
       "  </tbody>\n",
       "</table>\n",
       "</div>"
      ],
      "text/plain": [
       "      deadline             launched       state  usd_pledged_real  \\\n",
       "0   2015-10-09  2015-08-11 12:12:28      failed              0.00   \n",
       "1   2017-11-01  2017-09-02 04:43:57      failed           2421.00   \n",
       "2   2013-02-26  2013-01-12 00:20:50      failed            220.00   \n",
       "3   2012-04-16  2012-03-17 03:24:11      failed              1.00   \n",
       "4   2015-08-29  2015-07-04 08:35:03    canceled           1283.00   \n",
       "5   2016-04-01  2016-02-26 13:38:27  successful          52375.00   \n",
       "6   2014-12-21  2014-12-01 18:30:44  successful           1205.00   \n",
       "7   2016-03-17  2016-02-01 20:05:12      failed            453.00   \n",
       "8   2014-05-29  2014-04-24 18:14:43    canceled           8233.00   \n",
       "9   2014-08-10  2014-07-11 21:55:48    canceled           6240.57   \n",
       "10  2013-10-09  2013-09-09 18:19:37      failed              0.00   \n",
       "11  2013-04-08  2013-03-09 06:42:58  successful          12700.00   \n",
       "12  2014-10-02  2014-09-02 17:11:50      failed              0.00   \n",
       "13  2016-03-25  2016-02-09 23:01:12      failed              0.00   \n",
       "14  2017-05-03  2017-04-05 19:44:18  successful         121857.33   \n",
       "15  2015-02-28  2015-01-29 02:10:53      failed            664.00   \n",
       "16  2014-11-08  2014-10-09 22:27:52      failed            395.00   \n",
       "17  2015-05-10  2015-04-10 21:20:54      failed            789.00   \n",
       "18  2012-08-17  2012-08-02 14:11:32  successful            250.00   \n",
       "19  2012-06-02  2012-05-03 17:24:32      failed           1781.00   \n",
       "\n",
       "    usd_goal_real  \n",
       "0         1533.95  \n",
       "1        30000.00  \n",
       "2        45000.00  \n",
       "3         5000.00  \n",
       "4        19500.00  \n",
       "5        50000.00  \n",
       "6         1000.00  \n",
       "7        25000.00  \n",
       "8       125000.00  \n",
       "9        65000.00  \n",
       "10        2406.39  \n",
       "11       12500.00  \n",
       "12        5000.00  \n",
       "13      200000.00  \n",
       "14        6469.73  \n",
       "15        2500.00  \n",
       "16        1500.00  \n",
       "17        3000.00  \n",
       "18         250.00  \n",
       "19        5000.00  "
      ]
     },
     "metadata": {},
     "output_type": "display_data"
    },
    {
     "name": "stdout",
     "output_type": "stream",
     "text": [
      "<class 'pandas.core.frame.DataFrame'>\n",
      "RangeIndex: 378661 entries, 0 to 378660\n",
      "Data columns (total 5 columns):\n",
      "deadline            378661 non-null object\n",
      "launched            378661 non-null object\n",
      "state               378661 non-null object\n",
      "usd_pledged_real    378661 non-null float64\n",
      "usd_goal_real       378661 non-null float64\n",
      "dtypes: float64(2), object(3)\n",
      "memory usage: 14.4+ MB\n"
     ]
    }
   ],
   "source": [
    "#データセットのインポート\n",
    "df_project=pd.read_csv(\"../1_data/ks-projects-201801.csv\")[[\"deadline\",\"launched\",\"state\",\"usd_pledged_real\",\"usd_goal_real\"]]\n",
    "\n",
    "#表示\n",
    "display(df_project.head(20))\n",
    "df_project.describe()\n",
    "df_project.info()"
   ]
  },
  {
   "cell_type": "code",
   "execution_count": 10,
   "metadata": {
    "scrolled": true
   },
   "outputs": [
    {
     "name": "stdout",
     "output_type": "stream",
     "text": [
      "failed        197719\n",
      "successful    133956\n",
      "canceled       38779\n",
      "undefined       3562\n",
      "live            2799\n",
      "suspended       1846\n",
      "Name: state, dtype: int64\n"
     ]
    }
   ],
   "source": [
    "#stateの中身を確認\n",
    "print(df_project.state.value_counts())"
   ]
  },
  {
   "cell_type": "code",
   "execution_count": 4,
   "metadata": {},
   "outputs": [],
   "source": [
    "#日数計算\n",
    "df_project['deadline'] = pd.to_datetime(df_project['deadline'],format='%Y-%m-%d')\n",
    "df_project['launched'] = pd.to_datetime(df_project['launched'],format='%Y-%m-%d')\n",
    "\n",
    "df_project['count'] = (df_project['deadline'] - df_project['launched']).astype('timedelta64[D]')\n",
    "count = df_project['count'].value_counts()"
   ]
  },
  {
   "cell_type": "code",
   "execution_count": 5,
   "metadata": {},
   "outputs": [
    {
     "data": {
      "text/html": [
       "<div>\n",
       "<style scoped>\n",
       "    .dataframe tbody tr th:only-of-type {\n",
       "        vertical-align: middle;\n",
       "    }\n",
       "\n",
       "    .dataframe tbody tr th {\n",
       "        vertical-align: top;\n",
       "    }\n",
       "\n",
       "    .dataframe thead th {\n",
       "        text-align: right;\n",
       "    }\n",
       "</style>\n",
       "<table border=\"1\" class=\"dataframe\">\n",
       "  <thead>\n",
       "    <tr style=\"text-align: right;\">\n",
       "      <th></th>\n",
       "      <th>deadline</th>\n",
       "      <th>launched</th>\n",
       "      <th>state</th>\n",
       "      <th>usd_pledged_real</th>\n",
       "      <th>usd_goal_real</th>\n",
       "      <th>count</th>\n",
       "    </tr>\n",
       "  </thead>\n",
       "  <tbody>\n",
       "    <tr>\n",
       "      <th>0</th>\n",
       "      <td>2015-10-09</td>\n",
       "      <td>2015-08-11 12:12:28</td>\n",
       "      <td>failed</td>\n",
       "      <td>0.0</td>\n",
       "      <td>1533.95</td>\n",
       "      <td>58.0</td>\n",
       "    </tr>\n",
       "    <tr>\n",
       "      <th>1</th>\n",
       "      <td>2017-11-01</td>\n",
       "      <td>2017-09-02 04:43:57</td>\n",
       "      <td>failed</td>\n",
       "      <td>2421.0</td>\n",
       "      <td>30000.00</td>\n",
       "      <td>59.0</td>\n",
       "    </tr>\n",
       "    <tr>\n",
       "      <th>2</th>\n",
       "      <td>2013-02-26</td>\n",
       "      <td>2013-01-12 00:20:50</td>\n",
       "      <td>failed</td>\n",
       "      <td>220.0</td>\n",
       "      <td>45000.00</td>\n",
       "      <td>44.0</td>\n",
       "    </tr>\n",
       "    <tr>\n",
       "      <th>3</th>\n",
       "      <td>2012-04-16</td>\n",
       "      <td>2012-03-17 03:24:11</td>\n",
       "      <td>failed</td>\n",
       "      <td>1.0</td>\n",
       "      <td>5000.00</td>\n",
       "      <td>29.0</td>\n",
       "    </tr>\n",
       "    <tr>\n",
       "      <th>4</th>\n",
       "      <td>2015-08-29</td>\n",
       "      <td>2015-07-04 08:35:03</td>\n",
       "      <td>canceled</td>\n",
       "      <td>1283.0</td>\n",
       "      <td>19500.00</td>\n",
       "      <td>55.0</td>\n",
       "    </tr>\n",
       "  </tbody>\n",
       "</table>\n",
       "</div>"
      ],
      "text/plain": [
       "    deadline            launched     state  usd_pledged_real  usd_goal_real  \\\n",
       "0 2015-10-09 2015-08-11 12:12:28    failed               0.0        1533.95   \n",
       "1 2017-11-01 2017-09-02 04:43:57    failed            2421.0       30000.00   \n",
       "2 2013-02-26 2013-01-12 00:20:50    failed             220.0       45000.00   \n",
       "3 2012-04-16 2012-03-17 03:24:11    failed               1.0        5000.00   \n",
       "4 2015-08-29 2015-07-04 08:35:03  canceled            1283.0       19500.00   \n",
       "\n",
       "   count  \n",
       "0   58.0  \n",
       "1   59.0  \n",
       "2   44.0  \n",
       "3   29.0  \n",
       "4   55.0  "
      ]
     },
     "metadata": {},
     "output_type": "display_data"
    }
   ],
   "source": [
    "display(df_project.head())"
   ]
  },
  {
   "cell_type": "code",
   "execution_count": null,
   "metadata": {},
   "outputs": [],
   "source": []
  },
  {
   "cell_type": "code",
   "execution_count": null,
   "metadata": {},
   "outputs": [],
   "source": [
    "plt.subplot(3,1,1)\n",
    "plt.hist(df_project.goal, log=True)\n",
    "plt.tight_layout()\n",
    "plt.subplot(3,1,2)\n",
    "plt.hist(df_project.pledged, log=True)\n",
    "plt.subplot(3,1,3)\n",
    "plt.hist(df_project.backers, log=True)"
   ]
  },
  {
   "cell_type": "code",
   "execution_count": 13,
   "metadata": {},
   "outputs": [
    {
     "name": "stdout",
     "output_type": "stream",
     "text": [
      "failed        197719\n",
      "successful    133956\n",
      "canceled       38779\n",
      "                8207\n",
      "Name: state, dtype: int64\n"
     ]
    }
   ],
   "source": [
    "print(df_project.state.value_counts())"
   ]
  },
  {
   "cell_type": "code",
   "execution_count": 20,
   "metadata": {
    "scrolled": true
   },
   "outputs": [
    {
     "data": {
      "text/html": [
       "<div>\n",
       "<style scoped>\n",
       "    .dataframe tbody tr th:only-of-type {\n",
       "        vertical-align: middle;\n",
       "    }\n",
       "\n",
       "    .dataframe tbody tr th {\n",
       "        vertical-align: top;\n",
       "    }\n",
       "\n",
       "    .dataframe thead th {\n",
       "        text-align: right;\n",
       "    }\n",
       "</style>\n",
       "<table border=\"1\" class=\"dataframe\">\n",
       "  <thead>\n",
       "    <tr style=\"text-align: right;\">\n",
       "      <th></th>\n",
       "      <th>deadline</th>\n",
       "      <th>launched</th>\n",
       "      <th>state</th>\n",
       "      <th>usd_pledged_real</th>\n",
       "      <th>usd_goal_real</th>\n",
       "      <th>count</th>\n",
       "      <th>state_n</th>\n",
       "    </tr>\n",
       "  </thead>\n",
       "  <tbody>\n",
       "    <tr>\n",
       "      <th>0</th>\n",
       "      <td>2015-10-09</td>\n",
       "      <td>2015-08-11 12:12:28</td>\n",
       "      <td>failed</td>\n",
       "      <td>0.0</td>\n",
       "      <td>1533.95</td>\n",
       "      <td>58.0</td>\n",
       "      <td>0.0</td>\n",
       "    </tr>\n",
       "    <tr>\n",
       "      <th>1</th>\n",
       "      <td>2017-11-01</td>\n",
       "      <td>2017-09-02 04:43:57</td>\n",
       "      <td>failed</td>\n",
       "      <td>2421.0</td>\n",
       "      <td>30000.00</td>\n",
       "      <td>59.0</td>\n",
       "      <td>0.0</td>\n",
       "    </tr>\n",
       "    <tr>\n",
       "      <th>2</th>\n",
       "      <td>2013-02-26</td>\n",
       "      <td>2013-01-12 00:20:50</td>\n",
       "      <td>failed</td>\n",
       "      <td>220.0</td>\n",
       "      <td>45000.00</td>\n",
       "      <td>44.0</td>\n",
       "      <td>0.0</td>\n",
       "    </tr>\n",
       "    <tr>\n",
       "      <th>3</th>\n",
       "      <td>2012-04-16</td>\n",
       "      <td>2012-03-17 03:24:11</td>\n",
       "      <td>failed</td>\n",
       "      <td>1.0</td>\n",
       "      <td>5000.00</td>\n",
       "      <td>29.0</td>\n",
       "      <td>0.0</td>\n",
       "    </tr>\n",
       "    <tr>\n",
       "      <th>4</th>\n",
       "      <td>2015-08-29</td>\n",
       "      <td>2015-07-04 08:35:03</td>\n",
       "      <td>canceled</td>\n",
       "      <td>1283.0</td>\n",
       "      <td>19500.00</td>\n",
       "      <td>55.0</td>\n",
       "      <td>0.0</td>\n",
       "    </tr>\n",
       "  </tbody>\n",
       "</table>\n",
       "</div>"
      ],
      "text/plain": [
       "    deadline            launched     state  usd_pledged_real  usd_goal_real  \\\n",
       "0 2015-10-09 2015-08-11 12:12:28    failed               0.0        1533.95   \n",
       "1 2017-11-01 2017-09-02 04:43:57    failed            2421.0       30000.00   \n",
       "2 2013-02-26 2013-01-12 00:20:50    failed             220.0       45000.00   \n",
       "3 2012-04-16 2012-03-17 03:24:11    failed               1.0        5000.00   \n",
       "4 2015-08-29 2015-07-04 08:35:03  canceled            1283.0       19500.00   \n",
       "\n",
       "   count  state_n  \n",
       "0   58.0      0.0  \n",
       "1   59.0      0.0  \n",
       "2   44.0      0.0  \n",
       "3   29.0      0.0  \n",
       "4   55.0      0.0  "
      ]
     },
     "metadata": {},
     "output_type": "display_data"
    },
    {
     "name": "stdout",
     "output_type": "stream",
     "text": [
      "failed        197719\n",
      "successful    133956\n",
      "canceled       38779\n",
      "                8207\n",
      "Name: state, dtype: int64\n",
      "0.0    244705\n",
      "1.0    133956\n",
      "Name: state_n, dtype: int64\n"
     ]
    }
   ],
   "source": [
    "#2値に分ける(その他の削除の仕方が不明でした。)\n",
    "#df_project['state']=df_project['state'].replace([\"undefined\",\"live\",\"suspended\"],\"\")\n",
    "df_project.loc[df_project['state'] == 'successful','state_n']=1\n",
    "df_project.loc[df_project['state'] != 'successful','state_n']=0\n",
    "display(df_project.head())\n",
    "print(df_project.state.value_counts())\n",
    "print(df_project.state_n.value_counts())"
   ]
  },
  {
   "cell_type": "code",
   "execution_count": 21,
   "metadata": {},
   "outputs": [],
   "source": [
    "#state等を削除\n",
    "drop_columns = ['state','deadline','launched']\n",
    "df_project = df_project.drop(drop_columns, axis = 1)"
   ]
  },
  {
   "cell_type": "code",
   "execution_count": 22,
   "metadata": {},
   "outputs": [
    {
     "data": {
      "text/plain": [
       "usd_pledged_real    0\n",
       "usd_goal_real       0\n",
       "count               0\n",
       "state_n             0\n",
       "dtype: int64"
      ]
     },
     "execution_count": 22,
     "metadata": {},
     "output_type": "execute_result"
    }
   ],
   "source": [
    "df_project.isnull().sum()"
   ]
  },
  {
   "cell_type": "code",
   "execution_count": 23,
   "metadata": {},
   "outputs": [],
   "source": [
    "#ダミー変数作成\n",
    "#df_project=pd.get_dummies(df_project)\n",
    "#display(df_project.head())"
   ]
  },
  {
   "cell_type": "code",
   "execution_count": 24,
   "metadata": {},
   "outputs": [
    {
     "data": {
      "text/html": [
       "<style  type=\"text/css\" >\n",
       "    #T_02d9ae58_b7f0_11e9_9e5a_10f00573ad0brow0_col0 {\n",
       "            background-color:  #b40426;\n",
       "            color:  #f1f1f1;\n",
       "        }    #T_02d9ae58_b7f0_11e9_9e5a_10f00573ad0brow0_col1 {\n",
       "            background-color:  #4358cb;\n",
       "            color:  #f1f1f1;\n",
       "        }    #T_02d9ae58_b7f0_11e9_9e5a_10f00573ad0brow0_col2 {\n",
       "            background-color:  #4257c9;\n",
       "            color:  #f1f1f1;\n",
       "        }    #T_02d9ae58_b7f0_11e9_9e5a_10f00573ad0brow0_col3 {\n",
       "            background-color:  #6485ec;\n",
       "            color:  #000000;\n",
       "        }    #T_02d9ae58_b7f0_11e9_9e5a_10f00573ad0brow1_col0 {\n",
       "            background-color:  #3c4ec2;\n",
       "            color:  #f1f1f1;\n",
       "        }    #T_02d9ae58_b7f0_11e9_9e5a_10f00573ad0brow1_col1 {\n",
       "            background-color:  #b40426;\n",
       "            color:  #f1f1f1;\n",
       "        }    #T_02d9ae58_b7f0_11e9_9e5a_10f00573ad0brow1_col2 {\n",
       "            background-color:  #4358cb;\n",
       "            color:  #f1f1f1;\n",
       "        }    #T_02d9ae58_b7f0_11e9_9e5a_10f00573ad0brow1_col3 {\n",
       "            background-color:  #3b4cc0;\n",
       "            color:  #f1f1f1;\n",
       "        }    #T_02d9ae58_b7f0_11e9_9e5a_10f00573ad0brow2_col0 {\n",
       "            background-color:  #3b4cc0;\n",
       "            color:  #f1f1f1;\n",
       "        }    #T_02d9ae58_b7f0_11e9_9e5a_10f00573ad0brow2_col1 {\n",
       "            background-color:  #4257c9;\n",
       "            color:  #f1f1f1;\n",
       "        }    #T_02d9ae58_b7f0_11e9_9e5a_10f00573ad0brow2_col2 {\n",
       "            background-color:  #b40426;\n",
       "            color:  #f1f1f1;\n",
       "        }    #T_02d9ae58_b7f0_11e9_9e5a_10f00573ad0brow2_col3 {\n",
       "            background-color:  #3b4cc0;\n",
       "            color:  #f1f1f1;\n",
       "        }    #T_02d9ae58_b7f0_11e9_9e5a_10f00573ad0brow3_col0 {\n",
       "            background-color:  #5d7ce6;\n",
       "            color:  #000000;\n",
       "        }    #T_02d9ae58_b7f0_11e9_9e5a_10f00573ad0brow3_col1 {\n",
       "            background-color:  #3b4cc0;\n",
       "            color:  #f1f1f1;\n",
       "        }    #T_02d9ae58_b7f0_11e9_9e5a_10f00573ad0brow3_col2 {\n",
       "            background-color:  #3b4cc0;\n",
       "            color:  #f1f1f1;\n",
       "        }    #T_02d9ae58_b7f0_11e9_9e5a_10f00573ad0brow3_col3 {\n",
       "            background-color:  #b40426;\n",
       "            color:  #f1f1f1;\n",
       "        }</style><table id=\"T_02d9ae58_b7f0_11e9_9e5a_10f00573ad0b\" ><thead>    <tr>        <th class=\"blank level0\" ></th>        <th class=\"col_heading level0 col0\" >usd_pledged_real</th>        <th class=\"col_heading level0 col1\" >usd_goal_real</th>        <th class=\"col_heading level0 col2\" >count</th>        <th class=\"col_heading level0 col3\" >state_n</th>    </tr></thead><tbody>\n",
       "                <tr>\n",
       "                        <th id=\"T_02d9ae58_b7f0_11e9_9e5a_10f00573ad0blevel0_row0\" class=\"row_heading level0 row0\" >usd_pledged_real</th>\n",
       "                        <td id=\"T_02d9ae58_b7f0_11e9_9e5a_10f00573ad0brow0_col0\" class=\"data row0 col0\" >1</td>\n",
       "                        <td id=\"T_02d9ae58_b7f0_11e9_9e5a_10f00573ad0brow0_col1\" class=\"data row0 col1\" >0.00559611</td>\n",
       "                        <td id=\"T_02d9ae58_b7f0_11e9_9e5a_10f00573ad0brow0_col2\" class=\"data row0 col2\" >0.000945813</td>\n",
       "                        <td id=\"T_02d9ae58_b7f0_11e9_9e5a_10f00573ad0brow0_col3\" class=\"data row0 col3\" >0.110704</td>\n",
       "            </tr>\n",
       "            <tr>\n",
       "                        <th id=\"T_02d9ae58_b7f0_11e9_9e5a_10f00573ad0blevel0_row1\" class=\"row_heading level0 row1\" >usd_goal_real</th>\n",
       "                        <td id=\"T_02d9ae58_b7f0_11e9_9e5a_10f00573ad0brow1_col0\" class=\"data row1 col0\" >0.00559611</td>\n",
       "                        <td id=\"T_02d9ae58_b7f0_11e9_9e5a_10f00573ad0brow1_col1\" class=\"data row1 col1\" >1</td>\n",
       "                        <td id=\"T_02d9ae58_b7f0_11e9_9e5a_10f00573ad0brow1_col2\" class=\"data row1 col2\" >0.0041839</td>\n",
       "                        <td id=\"T_02d9ae58_b7f0_11e9_9e5a_10f00573ad0brow1_col3\" class=\"data row1 col3\" >-0.0230518</td>\n",
       "            </tr>\n",
       "            <tr>\n",
       "                        <th id=\"T_02d9ae58_b7f0_11e9_9e5a_10f00573ad0blevel0_row2\" class=\"row_heading level0 row2\" >count</th>\n",
       "                        <td id=\"T_02d9ae58_b7f0_11e9_9e5a_10f00573ad0brow2_col0\" class=\"data row2 col0\" >0.000945813</td>\n",
       "                        <td id=\"T_02d9ae58_b7f0_11e9_9e5a_10f00573ad0brow2_col1\" class=\"data row2 col1\" >0.0041839</td>\n",
       "                        <td id=\"T_02d9ae58_b7f0_11e9_9e5a_10f00573ad0brow2_col2\" class=\"data row2 col2\" >1</td>\n",
       "                        <td id=\"T_02d9ae58_b7f0_11e9_9e5a_10f00573ad0brow2_col3\" class=\"data row2 col3\" >-0.0260959</td>\n",
       "            </tr>\n",
       "            <tr>\n",
       "                        <th id=\"T_02d9ae58_b7f0_11e9_9e5a_10f00573ad0blevel0_row3\" class=\"row_heading level0 row3\" >state_n</th>\n",
       "                        <td id=\"T_02d9ae58_b7f0_11e9_9e5a_10f00573ad0brow3_col0\" class=\"data row3 col0\" >0.110704</td>\n",
       "                        <td id=\"T_02d9ae58_b7f0_11e9_9e5a_10f00573ad0brow3_col1\" class=\"data row3 col1\" >-0.0230518</td>\n",
       "                        <td id=\"T_02d9ae58_b7f0_11e9_9e5a_10f00573ad0brow3_col2\" class=\"data row3 col2\" >-0.0260959</td>\n",
       "                        <td id=\"T_02d9ae58_b7f0_11e9_9e5a_10f00573ad0brow3_col3\" class=\"data row3 col3\" >1</td>\n",
       "            </tr>\n",
       "    </tbody></table>"
      ],
      "text/plain": [
       "<pandas.io.formats.style.Styler at 0x199880d5320>"
      ]
     },
     "execution_count": 24,
     "metadata": {},
     "output_type": "execute_result"
    }
   ],
   "source": [
    "#相関マップ\n",
    "df_project.corr().style.background_gradient(cmap='coolwarm')\n",
    "#sns.heatmap(df_project.corr(), cmap='coolwarm', vmin=-1, vmax=1"
   ]
  },
  {
   "cell_type": "code",
   "execution_count": 25,
   "metadata": {},
   "outputs": [
    {
     "data": {
      "text/plain": [
       "array([[<matplotlib.axes._subplots.AxesSubplot object at 0x00000199810D0B00>,\n",
       "        <matplotlib.axes._subplots.AxesSubplot object at 0x00000199807BB828>,\n",
       "        <matplotlib.axes._subplots.AxesSubplot object at 0x00000199808AE0B8>,\n",
       "        <matplotlib.axes._subplots.AxesSubplot object at 0x00000199806B8630>],\n",
       "       [<matplotlib.axes._subplots.AxesSubplot object at 0x00000199806CFBA8>,\n",
       "        <matplotlib.axes._subplots.AxesSubplot object at 0x0000019981184160>,\n",
       "        <matplotlib.axes._subplots.AxesSubplot object at 0x00000199807026D8>,\n",
       "        <matplotlib.axes._subplots.AxesSubplot object at 0x00000199805C6C88>],\n",
       "       [<matplotlib.axes._subplots.AxesSubplot object at 0x00000199805C6CC0>,\n",
       "        <matplotlib.axes._subplots.AxesSubplot object at 0x0000019980E1C780>,\n",
       "        <matplotlib.axes._subplots.AxesSubplot object at 0x0000019980A54CF8>,\n",
       "        <matplotlib.axes._subplots.AxesSubplot object at 0x00000199809C82B0>],\n",
       "       [<matplotlib.axes._subplots.AxesSubplot object at 0x000001998105F828>,\n",
       "        <matplotlib.axes._subplots.AxesSubplot object at 0x0000019980D21DA0>,\n",
       "        <matplotlib.axes._subplots.AxesSubplot object at 0x0000019980414358>,\n",
       "        <matplotlib.axes._subplots.AxesSubplot object at 0x00000199803A38D0>]],\n",
       "      dtype=object)"
      ]
     },
     "execution_count": 25,
     "metadata": {},
     "output_type": "execute_result"
    },
    {
     "data": {
      "image/png": "[encoded data removed]",
      "text/plain": [
       "<Figure size 720x720 with 16 Axes>"
      ]
     },
     "metadata": {
      "needs_background": "light"
     },
     "output_type": "display_data"
    }
   ],
   "source": [
    "#散布図を作成\n",
    "pd.plotting.scatter_matrix(df_project.head(10000), figsize=(10,10))"
   ]
  },
  {
   "cell_type": "code",
   "execution_count": 26,
   "metadata": {},
   "outputs": [],
   "source": [
    "y = df_project[\"state_n\"].values\n",
    "X = df_project.drop('state_n', axis=1).values"
   ]
  },
  {
   "cell_type": "code",
   "execution_count": 27,
   "metadata": {},
   "outputs": [],
   "source": [
    "#ホールドアウト法を使用\n",
    "test_size = 0.2        # 全データのうち、何%をテストデータにするか（今回は20%に設定）\n",
    "X_train, X_test, y_train, y_test = train_test_split(X, y, test_size=test_size, random_state=1234) # ホールドアウト法を実行（テストデータはランダム選択）"
   ]
  },
  {
   "cell_type": "code",
   "execution_count": 28,
   "metadata": {},
   "outputs": [
    {
     "data": {
      "text/plain": [
       "(array([7.5696e+04, 2.1000e+01, 9.0000e+00, 4.0000e+00, 1.0000e+00,\n",
       "        0.0000e+00, 1.0000e+00, 0.0000e+00, 0.0000e+00, 1.0000e+00]),\n",
       " array([-9.80600500e-02,  1.42144768e+01,  2.85270137e+01,  4.28395505e+01,\n",
       "         5.71520874e+01,  7.14646242e+01,  8.57771611e+01,  1.00089698e+02,\n",
       "         1.14402235e+02,  1.28714772e+02,  1.43027308e+02]),\n",
       " <a list of 10 Patch objects>)"
      ]
     },
     "execution_count": 28,
     "metadata": {},
     "output_type": "execute_result"
    },
    {
     "data": {
      "image/png": "[encoded data removed]",
      "text/plain": [
       "<Figure size 432x288 with 1 Axes>"
      ]
     },
     "metadata": {
      "needs_background": "light"
     },
     "output_type": "display_data"
    }
   ],
   "source": [
    "#標準化を実施\n",
    "stdsc = StandardScaler()\n",
    "X_train = stdsc.fit_transform(X_train)\n",
    "plt.hist(X_train[:, 0], log=True) \n",
    "stdsc = StandardScaler()\n",
    "X_test = stdsc.fit_transform(X_test)\n",
    "plt.hist(X_test[:, 0], log=True) "
   ]
  },
  {
   "cell_type": "code",
   "execution_count": 29,
   "metadata": {},
   "outputs": [
    {
     "name": "stdout",
     "output_type": "stream",
     "text": [
      "w0 = -2.359, w1 = 23.174, w2 = -98.708, w3 = -1.156\n"
     ]
    }
   ],
   "source": [
    "#ロジスティック回帰を実装\n",
    "clf = SGDClassifier(loss='log', penalty='none', max_iter=10000, fit_intercept=True, random_state=1234, tol=1e-3)\n",
    "clf.fit(X_train, y_train)\n",
    "\n",
    "# 重みを取得して表示\n",
    "w0 = clf.intercept_[0]\n",
    "w1 = clf.coef_[0, 0]\n",
    "w2 = clf.coef_[0, 1]\n",
    "w3 = clf.coef_[0, 2]\n",
    "print('w0 = {:.3f}, w1 = {:.3f}, w2 = {:.3f}, w3 = {:.3f}'.format(w0, w1, w2, w3))"
   ]
  },
  {
   "cell_type": "code",
   "execution_count": 30,
   "metadata": {},
   "outputs": [
    {
     "name": "stdout",
     "output_type": "stream",
     "text": [
      "対数尤度 = -5.916\n",
      "正答率 = 82.872%\n"
     ]
    }
   ],
   "source": [
    "# ラベルを予測\n",
    "y_est = clf.predict(X_train)\n",
    "\n",
    "# 対数尤度を表示\n",
    "print('対数尤度 = {:.3f}'.format(- log_loss(y_train, y_est)))\n",
    "\n",
    "# 正答率を表示\n",
    "print('正答率 = {:.3f}%'.format(100 * accuracy_score(y_train, y_est)))"
   ]
  },
  {
   "cell_type": "code",
   "execution_count": null,
   "metadata": {},
   "outputs": [],
   "source": []
  },
  {
   "cell_type": "code",
   "execution_count": 31,
   "metadata": {},
   "outputs": [
    {
     "name": "stdout",
     "output_type": "stream",
     "text": [
      "対数尤度 = -4.231\n",
      "正答率 = 87.749%\n"
     ]
    }
   ],
   "source": [
    "# ラベルを予測\n",
    "y_est2 = clf.predict(X_test)\n",
    "\n",
    "# 対数尤度を表示\n",
    "print('対数尤度 = {:.3f}'.format(- log_loss(y_test, y_est2)))\n",
    "\n",
    "# 正答率を表示\n",
    "print('正答率 = {:.3f}%'.format(100 * accuracy_score(y_test, y_est2)))"
   ]
  },
  {
   "cell_type": "code",
   "execution_count": 32,
   "metadata": {},
   "outputs": [
    {
     "data": {
      "text/html": [
       "<div>\n",
       "<style scoped>\n",
       "    .dataframe tbody tr th:only-of-type {\n",
       "        vertical-align: middle;\n",
       "    }\n",
       "\n",
       "    .dataframe tbody tr th {\n",
       "        vertical-align: top;\n",
       "    }\n",
       "\n",
       "    .dataframe thead th {\n",
       "        text-align: right;\n",
       "    }\n",
       "</style>\n",
       "<table border=\"1\" class=\"dataframe\">\n",
       "  <thead>\n",
       "    <tr style=\"text-align: right;\">\n",
       "      <th></th>\n",
       "      <th>予測 = 失敗</th>\n",
       "      <th>予測 = 成功</th>\n",
       "    </tr>\n",
       "  </thead>\n",
       "  <tbody>\n",
       "    <tr>\n",
       "      <th>正解 = 失敗</th>\n",
       "      <td>47513</td>\n",
       "      <td>1570</td>\n",
       "    </tr>\n",
       "    <tr>\n",
       "      <th>正解 = 成功</th>\n",
       "      <td>7708</td>\n",
       "      <td>18942</td>\n",
       "    </tr>\n",
       "  </tbody>\n",
       "</table>\n",
       "</div>"
      ],
      "text/plain": [
       "         予測 = 失敗  予測 = 成功\n",
       "正解 = 失敗    47513     1570\n",
       "正解 = 成功     7708    18942"
      ]
     },
     "execution_count": 32,
     "metadata": {},
     "output_type": "execute_result"
    }
   ],
   "source": [
    "# 予測値と正解のクロス集計\n",
    "conf_mat2 = pd.DataFrame(confusion_matrix(y_test, y_est2), \n",
    "                        index=['正解 = 失敗', '正解 = 成功'], \n",
    "                        columns=['予測 = 失敗', '予測 = 成功'])\n",
    "conf_mat2"
   ]
  },
  {
   "cell_type": "code",
   "execution_count": 33,
   "metadata": {},
   "outputs": [
    {
     "name": "stdout",
     "output_type": "stream",
     "text": [
      "対数尤度 = -1.206\n",
      "対数尤度 = -1.164\n",
      "正答率_test = 96.509%\n",
      "正答率_train = 96.629%\n"
     ]
    },
    {
     "data": {
      "text/html": [
       "<div>\n",
       "<style scoped>\n",
       "    .dataframe tbody tr th:only-of-type {\n",
       "        vertical-align: middle;\n",
       "    }\n",
       "\n",
       "    .dataframe tbody tr th {\n",
       "        vertical-align: top;\n",
       "    }\n",
       "\n",
       "    .dataframe thead th {\n",
       "        text-align: right;\n",
       "    }\n",
       "</style>\n",
       "<table border=\"1\" class=\"dataframe\">\n",
       "  <thead>\n",
       "    <tr style=\"text-align: right;\">\n",
       "      <th></th>\n",
       "      <th>予測 = 失敗</th>\n",
       "      <th>予測 = 成功</th>\n",
       "    </tr>\n",
       "  </thead>\n",
       "  <tbody>\n",
       "    <tr>\n",
       "      <th>正解 = 失敗</th>\n",
       "      <td>48485</td>\n",
       "      <td>598</td>\n",
       "    </tr>\n",
       "    <tr>\n",
       "      <th>正解 = 成功</th>\n",
       "      <td>2046</td>\n",
       "      <td>24604</td>\n",
       "    </tr>\n",
       "  </tbody>\n",
       "</table>\n",
       "</div>"
      ],
      "text/plain": [
       "         予測 = 失敗  予測 = 成功\n",
       "正解 = 失敗    48485      598\n",
       "正解 = 成功     2046    24604"
      ]
     },
     "metadata": {},
     "output_type": "display_data"
    },
    {
     "name": "stdout",
     "output_type": "stream",
     "text": [
      "\n",
      "対数尤度 = -0.511\n",
      "対数尤度 = -0.515\n",
      "正答率_test = 98.521%\n",
      "正答率_train = 98.508%\n"
     ]
    },
    {
     "data": {
      "text/html": [
       "<div>\n",
       "<style scoped>\n",
       "    .dataframe tbody tr th:only-of-type {\n",
       "        vertical-align: middle;\n",
       "    }\n",
       "\n",
       "    .dataframe tbody tr th {\n",
       "        vertical-align: top;\n",
       "    }\n",
       "\n",
       "    .dataframe thead th {\n",
       "        text-align: right;\n",
       "    }\n",
       "</style>\n",
       "<table border=\"1\" class=\"dataframe\">\n",
       "  <thead>\n",
       "    <tr style=\"text-align: right;\">\n",
       "      <th></th>\n",
       "      <th>予測 = 失敗</th>\n",
       "      <th>予測 = 成功</th>\n",
       "    </tr>\n",
       "  </thead>\n",
       "  <tbody>\n",
       "    <tr>\n",
       "      <th>正解 = 失敗</th>\n",
       "      <td>47667</td>\n",
       "      <td>1120</td>\n",
       "    </tr>\n",
       "    <tr>\n",
       "      <th>正解 = 成功</th>\n",
       "      <td>0</td>\n",
       "      <td>26945</td>\n",
       "    </tr>\n",
       "  </tbody>\n",
       "</table>\n",
       "</div>"
      ],
      "text/plain": [
       "         予測 = 失敗  予測 = 成功\n",
       "正解 = 失敗    47667     1120\n",
       "正解 = 成功        0    26945"
      ]
     },
     "metadata": {},
     "output_type": "display_data"
    },
    {
     "name": "stdout",
     "output_type": "stream",
     "text": [
      "\n",
      "対数尤度 = -0.382\n",
      "対数尤度 = -0.384\n",
      "正答率_test = 98.895%\n",
      "正答率_train = 98.889%\n"
     ]
    },
    {
     "data": {
      "text/html": [
       "<div>\n",
       "<style scoped>\n",
       "    .dataframe tbody tr th:only-of-type {\n",
       "        vertical-align: middle;\n",
       "    }\n",
       "\n",
       "    .dataframe tbody tr th {\n",
       "        vertical-align: top;\n",
       "    }\n",
       "\n",
       "    .dataframe thead th {\n",
       "        text-align: right;\n",
       "    }\n",
       "</style>\n",
       "<table border=\"1\" class=\"dataframe\">\n",
       "  <thead>\n",
       "    <tr style=\"text-align: right;\">\n",
       "      <th></th>\n",
       "      <th>予測 = 失敗</th>\n",
       "      <th>予測 = 成功</th>\n",
       "    </tr>\n",
       "  </thead>\n",
       "  <tbody>\n",
       "    <tr>\n",
       "      <th>正解 = 失敗</th>\n",
       "      <td>48113</td>\n",
       "      <td>837</td>\n",
       "    </tr>\n",
       "    <tr>\n",
       "      <th>正解 = 成功</th>\n",
       "      <td>0</td>\n",
       "      <td>26782</td>\n",
       "    </tr>\n",
       "  </tbody>\n",
       "</table>\n",
       "</div>"
      ],
      "text/plain": [
       "         予測 = 失敗  予測 = 成功\n",
       "正解 = 失敗    48113      837\n",
       "正解 = 成功        0    26782"
      ]
     },
     "metadata": {},
     "output_type": "display_data"
    },
    {
     "name": "stdout",
     "output_type": "stream",
     "text": [
      "\n",
      "対数尤度 = -1.002\n",
      "対数尤度 = -1.058\n",
      "正答率_test = 97.100%\n",
      "正答率_train = 96.938%\n"
     ]
    },
    {
     "data": {
      "text/html": [
       "<div>\n",
       "<style scoped>\n",
       "    .dataframe tbody tr th:only-of-type {\n",
       "        vertical-align: middle;\n",
       "    }\n",
       "\n",
       "    .dataframe tbody tr th {\n",
       "        vertical-align: top;\n",
       "    }\n",
       "\n",
       "    .dataframe thead th {\n",
       "        text-align: right;\n",
       "    }\n",
       "</style>\n",
       "<table border=\"1\" class=\"dataframe\">\n",
       "  <thead>\n",
       "    <tr style=\"text-align: right;\">\n",
       "      <th></th>\n",
       "      <th>予測 = 失敗</th>\n",
       "      <th>予測 = 成功</th>\n",
       "    </tr>\n",
       "  </thead>\n",
       "  <tbody>\n",
       "    <tr>\n",
       "      <th>正解 = 失敗</th>\n",
       "      <td>48282</td>\n",
       "      <td>547</td>\n",
       "    </tr>\n",
       "    <tr>\n",
       "      <th>正解 = 成功</th>\n",
       "      <td>1649</td>\n",
       "      <td>25254</td>\n",
       "    </tr>\n",
       "  </tbody>\n",
       "</table>\n",
       "</div>"
      ],
      "text/plain": [
       "         予測 = 失敗  予測 = 成功\n",
       "正解 = 失敗    48282      547\n",
       "正解 = 成功     1649    25254"
      ]
     },
     "metadata": {},
     "output_type": "display_data"
    },
    {
     "name": "stdout",
     "output_type": "stream",
     "text": [
      "\n",
      "対数尤度 = -0.845\n",
      "対数尤度 = -0.845\n",
      "正答率_test = 97.553%\n",
      "正答率_train = 97.553%\n"
     ]
    },
    {
     "data": {
      "text/html": [
       "<div>\n",
       "<style scoped>\n",
       "    .dataframe tbody tr th:only-of-type {\n",
       "        vertical-align: middle;\n",
       "    }\n",
       "\n",
       "    .dataframe tbody tr th {\n",
       "        vertical-align: top;\n",
       "    }\n",
       "\n",
       "    .dataframe thead th {\n",
       "        text-align: right;\n",
       "    }\n",
       "</style>\n",
       "<table border=\"1\" class=\"dataframe\">\n",
       "  <thead>\n",
       "    <tr style=\"text-align: right;\">\n",
       "      <th></th>\n",
       "      <th>予測 = 失敗</th>\n",
       "      <th>予測 = 成功</th>\n",
       "    </tr>\n",
       "  </thead>\n",
       "  <tbody>\n",
       "    <tr>\n",
       "      <th>正解 = 失敗</th>\n",
       "      <td>48455</td>\n",
       "      <td>601</td>\n",
       "    </tr>\n",
       "    <tr>\n",
       "      <th>正解 = 成功</th>\n",
       "      <td>1252</td>\n",
       "      <td>25424</td>\n",
       "    </tr>\n",
       "  </tbody>\n",
       "</table>\n",
       "</div>"
      ],
      "text/plain": [
       "         予測 = 失敗  予測 = 成功\n",
       "正解 = 失敗    48455      601\n",
       "正解 = 成功     1252    25424"
      ]
     },
     "metadata": {},
     "output_type": "display_data"
    },
    {
     "name": "stdout",
     "output_type": "stream",
     "text": [
      "\n"
     ]
    }
   ],
   "source": [
    "#交差検証法\n",
    "n_split = 5 # グループ数を設定（今回は5分割）\n",
    "\n",
    "cross_valid_mae = 0\n",
    "split_num = 1\n",
    "\n",
    "# テスト役を交代させながら学習と評価を繰り返す\n",
    "for train_idx, test_idx in KFold(n_splits=n_split, shuffle=True, random_state=1234).split(X, y):\n",
    "    X_train, y_train = X[train_idx], y[train_idx] #学習用データ\n",
    "    X_test, y_test = X[test_idx], y[test_idx]     #テスト用データ\n",
    "    \n",
    "    # 学習用データを使って線形回帰モデルを学習\n",
    "    clf = SGDClassifier(loss='log', penalty='none', max_iter=10000, fit_intercept=True, random_state=1234, tol=1e-3)\n",
    "    clf.fit(X_train, y_train)\n",
    "\n",
    "    # 予測を実行\n",
    "    y_est = clf.predict(X_test)\n",
    "    y_est_t = clf.predict(X_train)\n",
    "\n",
    "    # 対数尤度を表示\n",
    "    print('対数尤度 = {:.3f}'.format(- log_loss(y_test, y_est)))\n",
    "    print('対数尤度 = {:.3f}'.format(- log_loss(y_train, y_est_t)))\n",
    "\n",
    "    # 正答率を表示\n",
    "    print('正答率_test = {:.3f}%'.format(100 * accuracy_score(y_test, y_est)))\n",
    "    print('正答率_train = {:.3f}%'.format(100 * accuracy_score(y_train, y_est_t)))\n",
    "    \n",
    "    # 予測値と正解のクロス集計\n",
    "    conf_mat = pd.DataFrame(confusion_matrix(y_test, y_est), \n",
    "                        index=['正解 = 失敗', '正解 = 成功'], \n",
    "                        columns=['予測 = 失敗', '予測 = 成功'])\n",
    "    display(conf_mat)\n",
    "    print()\n"
   ]
  },
  {
   "cell_type": "code",
   "execution_count": null,
   "metadata": {},
   "outputs": [],
   "source": [
    "#SVM\n",
    "parameters = {'kernel':['linear', 'rbf'], 'C':[1, 1]} # ここを編集する\n",
    "model = SVC()\n",
    "clf = GridSearchCV(model, parameters, cv=3,)\n",
    "clf.fit(X_train, y_train)\n",
    "print(clf.best_params_, clf.best_score_)"
   ]
  },
  {
   "cell_type": "code",
   "execution_count": null,
   "metadata": {},
   "outputs": [],
   "source": []
  }
 ],
 "metadata": {
  "anaconda-cloud": {},
  "kernelspec": {
   "display_name": "Python 3",
   "language": "python",
   "name": "python3"
  },
  "language_info": {
   "codemirror_mode": {
    "name": "ipython",
    "version": 3
   },
   "file_extension": ".py",
   "mimetype": "text/x-python",
   "name": "python",
   "nbconvert_exporter": "python",
   "pygments_lexer": "ipython3",
   "version": "3.7.3"
  }
 },
 "nbformat": 4,
 "nbformat_minor": 2
}
